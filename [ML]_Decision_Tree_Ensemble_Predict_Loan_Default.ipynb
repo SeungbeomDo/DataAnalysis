{
  "nbformat": 4,
  "nbformat_minor": 0,
  "metadata": {
    "colab": {
      "provenance": [],
      "collapsed_sections": [
        "8V_NEuYF2Yjj",
        "jF4c_xAR-wg6",
        "bRS5swvP-cmE",
        "46ldJVxJDRjf",
        "1NSFqolbCtad",
        "1lE-VthUIknv",
        "pKAqf6D_Ku8J",
        "7DuCy3XqSbda",
        "jHo_TTPw6eit"
      ]
    },
    "kernelspec": {
      "name": "python3",
      "display_name": "Python 3"
    },
    "language_info": {
      "name": "python"
    },
    "gpuClass": "standard"
  },
  "cells": [
    {
      "cell_type": "code",
      "source": [
        "#기본 라이브러리 만들기\n",
        "import pandas as pd\n",
        "import numpy as np\n",
        "import matplotlib.pyplot as plt"
      ],
      "metadata": {
        "id": "J9Kq7ZSKf6QV"
      },
      "execution_count": 37,
      "outputs": []
    },
    {
      "cell_type": "code",
      "source": [
        "from google.colab import drive\n",
        "drive.mount('/content/drive')"
      ],
      "metadata": {
        "id": "NeNRmxvp-GNl",
        "colab": {
          "base_uri": "https://localhost:8080/"
        },
        "outputId": "bd11bc46-576b-4a37-82ff-dc4a29c5113f"
      },
      "execution_count": 38,
      "outputs": [
        {
          "output_type": "stream",
          "name": "stdout",
          "text": [
            "Drive already mounted at /content/drive; to attempt to forcibly remount, call drive.mount(\"/content/drive\", force_remount=True).\n"
          ]
        }
      ]
    },
    {
      "cell_type": "code",
      "source": [
        "import warnings\n",
        "warnings.filterwarnings('ignore')"
      ],
      "metadata": {
        "id": "U6KjQaw0QjaO"
      },
      "execution_count": 39,
      "outputs": []
    },
    {
      "cell_type": "markdown",
      "source": [
        "# Decision Tree : 신용카드 연체 예측"
      ],
      "metadata": {
        "id": "8V_NEuYF2Yjj"
      }
    },
    {
      "cell_type": "markdown",
      "metadata": {
        "id": "jF4c_xAR-wg6"
      },
      "source": [
        "### 데이터 임포트"
      ]
    },
    {
      "cell_type": "code",
      "execution_count": 68,
      "metadata": {
        "id": "Aj6VFnF--wg6",
        "colab": {
          "base_uri": "https://localhost:8080/",
          "height": 0
        },
        "outputId": "b6eec917-7f4e-42e1-ecf4-bcdc1645c882"
      },
      "outputs": [
        {
          "output_type": "execute_result",
          "data": {
            "text/plain": [
              "   ID  Age  Experience  Income  ZIP Code  Family  CCAvg  Education  Mortgage  \\\n",
              "0   1   25           1      49     91107       4    1.6          1         0   \n",
              "1   2   45          19      34     90089       3    1.5          1         0   \n",
              "2   3   39          15      11     94720       1    1.0          1         0   \n",
              "3   4   35           9     100     94112       1    2.7          2         0   \n",
              "4   5   35           8      45     91330       4    1.0          2         0   \n",
              "\n",
              "   Personal Loan  Securities Account  CD Account  Online  CreditCard  \n",
              "0              0                   1           0       0           0  \n",
              "1              0                   1           0       0           0  \n",
              "2              0                   0           0       0           0  \n",
              "3              0                   0           0       0           0  \n",
              "4              0                   0           0       0           1  "
            ],
            "text/html": [
              "\n",
              "  <div id=\"df-55ea60d0-8dbf-41dc-a95a-50c57b05a632\">\n",
              "    <div class=\"colab-df-container\">\n",
              "      <div>\n",
              "<style scoped>\n",
              "    .dataframe tbody tr th:only-of-type {\n",
              "        vertical-align: middle;\n",
              "    }\n",
              "\n",
              "    .dataframe tbody tr th {\n",
              "        vertical-align: top;\n",
              "    }\n",
              "\n",
              "    .dataframe thead th {\n",
              "        text-align: right;\n",
              "    }\n",
              "</style>\n",
              "<table border=\"1\" class=\"dataframe\">\n",
              "  <thead>\n",
              "    <tr style=\"text-align: right;\">\n",
              "      <th></th>\n",
              "      <th>ID</th>\n",
              "      <th>Age</th>\n",
              "      <th>Experience</th>\n",
              "      <th>Income</th>\n",
              "      <th>ZIP Code</th>\n",
              "      <th>Family</th>\n",
              "      <th>CCAvg</th>\n",
              "      <th>Education</th>\n",
              "      <th>Mortgage</th>\n",
              "      <th>Personal Loan</th>\n",
              "      <th>Securities Account</th>\n",
              "      <th>CD Account</th>\n",
              "      <th>Online</th>\n",
              "      <th>CreditCard</th>\n",
              "    </tr>\n",
              "  </thead>\n",
              "  <tbody>\n",
              "    <tr>\n",
              "      <th>0</th>\n",
              "      <td>1</td>\n",
              "      <td>25</td>\n",
              "      <td>1</td>\n",
              "      <td>49</td>\n",
              "      <td>91107</td>\n",
              "      <td>4</td>\n",
              "      <td>1.6</td>\n",
              "      <td>1</td>\n",
              "      <td>0</td>\n",
              "      <td>0</td>\n",
              "      <td>1</td>\n",
              "      <td>0</td>\n",
              "      <td>0</td>\n",
              "      <td>0</td>\n",
              "    </tr>\n",
              "    <tr>\n",
              "      <th>1</th>\n",
              "      <td>2</td>\n",
              "      <td>45</td>\n",
              "      <td>19</td>\n",
              "      <td>34</td>\n",
              "      <td>90089</td>\n",
              "      <td>3</td>\n",
              "      <td>1.5</td>\n",
              "      <td>1</td>\n",
              "      <td>0</td>\n",
              "      <td>0</td>\n",
              "      <td>1</td>\n",
              "      <td>0</td>\n",
              "      <td>0</td>\n",
              "      <td>0</td>\n",
              "    </tr>\n",
              "    <tr>\n",
              "      <th>2</th>\n",
              "      <td>3</td>\n",
              "      <td>39</td>\n",
              "      <td>15</td>\n",
              "      <td>11</td>\n",
              "      <td>94720</td>\n",
              "      <td>1</td>\n",
              "      <td>1.0</td>\n",
              "      <td>1</td>\n",
              "      <td>0</td>\n",
              "      <td>0</td>\n",
              "      <td>0</td>\n",
              "      <td>0</td>\n",
              "      <td>0</td>\n",
              "      <td>0</td>\n",
              "    </tr>\n",
              "    <tr>\n",
              "      <th>3</th>\n",
              "      <td>4</td>\n",
              "      <td>35</td>\n",
              "      <td>9</td>\n",
              "      <td>100</td>\n",
              "      <td>94112</td>\n",
              "      <td>1</td>\n",
              "      <td>2.7</td>\n",
              "      <td>2</td>\n",
              "      <td>0</td>\n",
              "      <td>0</td>\n",
              "      <td>0</td>\n",
              "      <td>0</td>\n",
              "      <td>0</td>\n",
              "      <td>0</td>\n",
              "    </tr>\n",
              "    <tr>\n",
              "      <th>4</th>\n",
              "      <td>5</td>\n",
              "      <td>35</td>\n",
              "      <td>8</td>\n",
              "      <td>45</td>\n",
              "      <td>91330</td>\n",
              "      <td>4</td>\n",
              "      <td>1.0</td>\n",
              "      <td>2</td>\n",
              "      <td>0</td>\n",
              "      <td>0</td>\n",
              "      <td>0</td>\n",
              "      <td>0</td>\n",
              "      <td>0</td>\n",
              "      <td>1</td>\n",
              "    </tr>\n",
              "  </tbody>\n",
              "</table>\n",
              "</div>\n",
              "      <button class=\"colab-df-convert\" onclick=\"convertToInteractive('df-55ea60d0-8dbf-41dc-a95a-50c57b05a632')\"\n",
              "              title=\"Convert this dataframe to an interactive table.\"\n",
              "              style=\"display:none;\">\n",
              "        \n",
              "  <svg xmlns=\"http://www.w3.org/2000/svg\" height=\"24px\"viewBox=\"0 0 24 24\"\n",
              "       width=\"24px\">\n",
              "    <path d=\"M0 0h24v24H0V0z\" fill=\"none\"/>\n",
              "    <path d=\"M18.56 5.44l.94 2.06.94-2.06 2.06-.94-2.06-.94-.94-2.06-.94 2.06-2.06.94zm-11 1L8.5 8.5l.94-2.06 2.06-.94-2.06-.94L8.5 2.5l-.94 2.06-2.06.94zm10 10l.94 2.06.94-2.06 2.06-.94-2.06-.94-.94-2.06-.94 2.06-2.06.94z\"/><path d=\"M17.41 7.96l-1.37-1.37c-.4-.4-.92-.59-1.43-.59-.52 0-1.04.2-1.43.59L10.3 9.45l-7.72 7.72c-.78.78-.78 2.05 0 2.83L4 21.41c.39.39.9.59 1.41.59.51 0 1.02-.2 1.41-.59l7.78-7.78 2.81-2.81c.8-.78.8-2.07 0-2.86zM5.41 20L4 18.59l7.72-7.72 1.47 1.35L5.41 20z\"/>\n",
              "  </svg>\n",
              "      </button>\n",
              "      \n",
              "  <style>\n",
              "    .colab-df-container {\n",
              "      display:flex;\n",
              "      flex-wrap:wrap;\n",
              "      gap: 12px;\n",
              "    }\n",
              "\n",
              "    .colab-df-convert {\n",
              "      background-color: #E8F0FE;\n",
              "      border: none;\n",
              "      border-radius: 50%;\n",
              "      cursor: pointer;\n",
              "      display: none;\n",
              "      fill: #1967D2;\n",
              "      height: 32px;\n",
              "      padding: 0 0 0 0;\n",
              "      width: 32px;\n",
              "    }\n",
              "\n",
              "    .colab-df-convert:hover {\n",
              "      background-color: #E2EBFA;\n",
              "      box-shadow: 0px 1px 2px rgba(60, 64, 67, 0.3), 0px 1px 3px 1px rgba(60, 64, 67, 0.15);\n",
              "      fill: #174EA6;\n",
              "    }\n",
              "\n",
              "    [theme=dark] .colab-df-convert {\n",
              "      background-color: #3B4455;\n",
              "      fill: #D2E3FC;\n",
              "    }\n",
              "\n",
              "    [theme=dark] .colab-df-convert:hover {\n",
              "      background-color: #434B5C;\n",
              "      box-shadow: 0px 1px 3px 1px rgba(0, 0, 0, 0.15);\n",
              "      filter: drop-shadow(0px 1px 2px rgba(0, 0, 0, 0.3));\n",
              "      fill: #FFFFFF;\n",
              "    }\n",
              "  </style>\n",
              "\n",
              "      <script>\n",
              "        const buttonEl =\n",
              "          document.querySelector('#df-55ea60d0-8dbf-41dc-a95a-50c57b05a632 button.colab-df-convert');\n",
              "        buttonEl.style.display =\n",
              "          google.colab.kernel.accessAllowed ? 'block' : 'none';\n",
              "\n",
              "        async function convertToInteractive(key) {\n",
              "          const element = document.querySelector('#df-55ea60d0-8dbf-41dc-a95a-50c57b05a632');\n",
              "          const dataTable =\n",
              "            await google.colab.kernel.invokeFunction('convertToInteractive',\n",
              "                                                     [key], {});\n",
              "          if (!dataTable) return;\n",
              "\n",
              "          const docLinkHtml = 'Like what you see? Visit the ' +\n",
              "            '<a target=\"_blank\" href=https://colab.research.google.com/notebooks/data_table.ipynb>data table notebook</a>'\n",
              "            + ' to learn more about interactive tables.';\n",
              "          element.innerHTML = '';\n",
              "          dataTable['output_type'] = 'display_data';\n",
              "          await google.colab.output.renderOutput(dataTable, element);\n",
              "          const docLink = document.createElement('div');\n",
              "          docLink.innerHTML = docLinkHtml;\n",
              "          element.appendChild(docLink);\n",
              "        }\n",
              "      </script>\n",
              "    </div>\n",
              "  </div>\n",
              "  "
            ]
          },
          "metadata": {},
          "execution_count": 68
        }
      ],
      "source": [
        "#Personal Loan.csv 파일 불러오기\n",
        "loan = pd.read_csv('/content/drive/MyDrive/DSL/2023-1 과제/[0202][HW]_DecisionTree_and_Ensemble/DecisionTree&Ensemble/Personal Loan.csv')\n",
        "loan.head()"
      ]
    },
    {
      "cell_type": "code",
      "source": [
        "loan.info()"
      ],
      "metadata": {
        "id": "gNEuEOQi-iCw",
        "colab": {
          "base_uri": "https://localhost:8080/"
        },
        "outputId": "658bd3fe-7ebb-4548-9934-a95ac55e7273"
      },
      "execution_count": 69,
      "outputs": [
        {
          "output_type": "stream",
          "name": "stdout",
          "text": [
            "<class 'pandas.core.frame.DataFrame'>\n",
            "RangeIndex: 2500 entries, 0 to 2499\n",
            "Data columns (total 14 columns):\n",
            " #   Column              Non-Null Count  Dtype  \n",
            "---  ------              --------------  -----  \n",
            " 0   ID                  2500 non-null   int64  \n",
            " 1   Age                 2500 non-null   int64  \n",
            " 2   Experience          2500 non-null   int64  \n",
            " 3   Income              2500 non-null   int64  \n",
            " 4   ZIP Code            2500 non-null   int64  \n",
            " 5   Family              2500 non-null   int64  \n",
            " 6   CCAvg               2500 non-null   float64\n",
            " 7   Education           2500 non-null   int64  \n",
            " 8   Mortgage            2500 non-null   int64  \n",
            " 9   Personal Loan       2500 non-null   int64  \n",
            " 10  Securities Account  2500 non-null   int64  \n",
            " 11  CD Account          2500 non-null   int64  \n",
            " 12  Online              2500 non-null   int64  \n",
            " 13  CreditCard          2500 non-null   int64  \n",
            "dtypes: float64(1), int64(13)\n",
            "memory usage: 273.6 KB\n"
          ]
        }
      ]
    },
    {
      "cell_type": "markdown",
      "source": [
        "여기서 ZIP Code, ID 열은 분석의 편의를 위해 빼도록 하겠다.\n",
        "\n",
        "또 데이터들을 각각 raw_X, raw_y에 담아주도록 하자."
      ],
      "metadata": {
        "id": "s8amOBje-_kK"
      }
    },
    {
      "cell_type": "code",
      "source": [
        "raw_X = loan.dropna().drop(['Personal Loan', 'ZIP Code', 'ID'], axis=1)\n",
        "raw_X.head()"
      ],
      "metadata": {
        "id": "BoO0iHe__VSl",
        "colab": {
          "base_uri": "https://localhost:8080/",
          "height": 0
        },
        "outputId": "f3519481-4349-4d28-a926-f7afcadcde54"
      },
      "execution_count": 70,
      "outputs": [
        {
          "output_type": "execute_result",
          "data": {
            "text/plain": [
              "   Age  Experience  Income  Family  CCAvg  Education  Mortgage  \\\n",
              "0   25           1      49       4    1.6          1         0   \n",
              "1   45          19      34       3    1.5          1         0   \n",
              "2   39          15      11       1    1.0          1         0   \n",
              "3   35           9     100       1    2.7          2         0   \n",
              "4   35           8      45       4    1.0          2         0   \n",
              "\n",
              "   Securities Account  CD Account  Online  CreditCard  \n",
              "0                   1           0       0           0  \n",
              "1                   1           0       0           0  \n",
              "2                   0           0       0           0  \n",
              "3                   0           0       0           0  \n",
              "4                   0           0       0           1  "
            ],
            "text/html": [
              "\n",
              "  <div id=\"df-05fc6670-e4fd-491d-b520-6f1b26e4a32d\">\n",
              "    <div class=\"colab-df-container\">\n",
              "      <div>\n",
              "<style scoped>\n",
              "    .dataframe tbody tr th:only-of-type {\n",
              "        vertical-align: middle;\n",
              "    }\n",
              "\n",
              "    .dataframe tbody tr th {\n",
              "        vertical-align: top;\n",
              "    }\n",
              "\n",
              "    .dataframe thead th {\n",
              "        text-align: right;\n",
              "    }\n",
              "</style>\n",
              "<table border=\"1\" class=\"dataframe\">\n",
              "  <thead>\n",
              "    <tr style=\"text-align: right;\">\n",
              "      <th></th>\n",
              "      <th>Age</th>\n",
              "      <th>Experience</th>\n",
              "      <th>Income</th>\n",
              "      <th>Family</th>\n",
              "      <th>CCAvg</th>\n",
              "      <th>Education</th>\n",
              "      <th>Mortgage</th>\n",
              "      <th>Securities Account</th>\n",
              "      <th>CD Account</th>\n",
              "      <th>Online</th>\n",
              "      <th>CreditCard</th>\n",
              "    </tr>\n",
              "  </thead>\n",
              "  <tbody>\n",
              "    <tr>\n",
              "      <th>0</th>\n",
              "      <td>25</td>\n",
              "      <td>1</td>\n",
              "      <td>49</td>\n",
              "      <td>4</td>\n",
              "      <td>1.6</td>\n",
              "      <td>1</td>\n",
              "      <td>0</td>\n",
              "      <td>1</td>\n",
              "      <td>0</td>\n",
              "      <td>0</td>\n",
              "      <td>0</td>\n",
              "    </tr>\n",
              "    <tr>\n",
              "      <th>1</th>\n",
              "      <td>45</td>\n",
              "      <td>19</td>\n",
              "      <td>34</td>\n",
              "      <td>3</td>\n",
              "      <td>1.5</td>\n",
              "      <td>1</td>\n",
              "      <td>0</td>\n",
              "      <td>1</td>\n",
              "      <td>0</td>\n",
              "      <td>0</td>\n",
              "      <td>0</td>\n",
              "    </tr>\n",
              "    <tr>\n",
              "      <th>2</th>\n",
              "      <td>39</td>\n",
              "      <td>15</td>\n",
              "      <td>11</td>\n",
              "      <td>1</td>\n",
              "      <td>1.0</td>\n",
              "      <td>1</td>\n",
              "      <td>0</td>\n",
              "      <td>0</td>\n",
              "      <td>0</td>\n",
              "      <td>0</td>\n",
              "      <td>0</td>\n",
              "    </tr>\n",
              "    <tr>\n",
              "      <th>3</th>\n",
              "      <td>35</td>\n",
              "      <td>9</td>\n",
              "      <td>100</td>\n",
              "      <td>1</td>\n",
              "      <td>2.7</td>\n",
              "      <td>2</td>\n",
              "      <td>0</td>\n",
              "      <td>0</td>\n",
              "      <td>0</td>\n",
              "      <td>0</td>\n",
              "      <td>0</td>\n",
              "    </tr>\n",
              "    <tr>\n",
              "      <th>4</th>\n",
              "      <td>35</td>\n",
              "      <td>8</td>\n",
              "      <td>45</td>\n",
              "      <td>4</td>\n",
              "      <td>1.0</td>\n",
              "      <td>2</td>\n",
              "      <td>0</td>\n",
              "      <td>0</td>\n",
              "      <td>0</td>\n",
              "      <td>0</td>\n",
              "      <td>1</td>\n",
              "    </tr>\n",
              "  </tbody>\n",
              "</table>\n",
              "</div>\n",
              "      <button class=\"colab-df-convert\" onclick=\"convertToInteractive('df-05fc6670-e4fd-491d-b520-6f1b26e4a32d')\"\n",
              "              title=\"Convert this dataframe to an interactive table.\"\n",
              "              style=\"display:none;\">\n",
              "        \n",
              "  <svg xmlns=\"http://www.w3.org/2000/svg\" height=\"24px\"viewBox=\"0 0 24 24\"\n",
              "       width=\"24px\">\n",
              "    <path d=\"M0 0h24v24H0V0z\" fill=\"none\"/>\n",
              "    <path d=\"M18.56 5.44l.94 2.06.94-2.06 2.06-.94-2.06-.94-.94-2.06-.94 2.06-2.06.94zm-11 1L8.5 8.5l.94-2.06 2.06-.94-2.06-.94L8.5 2.5l-.94 2.06-2.06.94zm10 10l.94 2.06.94-2.06 2.06-.94-2.06-.94-.94-2.06-.94 2.06-2.06.94z\"/><path d=\"M17.41 7.96l-1.37-1.37c-.4-.4-.92-.59-1.43-.59-.52 0-1.04.2-1.43.59L10.3 9.45l-7.72 7.72c-.78.78-.78 2.05 0 2.83L4 21.41c.39.39.9.59 1.41.59.51 0 1.02-.2 1.41-.59l7.78-7.78 2.81-2.81c.8-.78.8-2.07 0-2.86zM5.41 20L4 18.59l7.72-7.72 1.47 1.35L5.41 20z\"/>\n",
              "  </svg>\n",
              "      </button>\n",
              "      \n",
              "  <style>\n",
              "    .colab-df-container {\n",
              "      display:flex;\n",
              "      flex-wrap:wrap;\n",
              "      gap: 12px;\n",
              "    }\n",
              "\n",
              "    .colab-df-convert {\n",
              "      background-color: #E8F0FE;\n",
              "      border: none;\n",
              "      border-radius: 50%;\n",
              "      cursor: pointer;\n",
              "      display: none;\n",
              "      fill: #1967D2;\n",
              "      height: 32px;\n",
              "      padding: 0 0 0 0;\n",
              "      width: 32px;\n",
              "    }\n",
              "\n",
              "    .colab-df-convert:hover {\n",
              "      background-color: #E2EBFA;\n",
              "      box-shadow: 0px 1px 2px rgba(60, 64, 67, 0.3), 0px 1px 3px 1px rgba(60, 64, 67, 0.15);\n",
              "      fill: #174EA6;\n",
              "    }\n",
              "\n",
              "    [theme=dark] .colab-df-convert {\n",
              "      background-color: #3B4455;\n",
              "      fill: #D2E3FC;\n",
              "    }\n",
              "\n",
              "    [theme=dark] .colab-df-convert:hover {\n",
              "      background-color: #434B5C;\n",
              "      box-shadow: 0px 1px 3px 1px rgba(0, 0, 0, 0.15);\n",
              "      filter: drop-shadow(0px 1px 2px rgba(0, 0, 0, 0.3));\n",
              "      fill: #FFFFFF;\n",
              "    }\n",
              "  </style>\n",
              "\n",
              "      <script>\n",
              "        const buttonEl =\n",
              "          document.querySelector('#df-05fc6670-e4fd-491d-b520-6f1b26e4a32d button.colab-df-convert');\n",
              "        buttonEl.style.display =\n",
              "          google.colab.kernel.accessAllowed ? 'block' : 'none';\n",
              "\n",
              "        async function convertToInteractive(key) {\n",
              "          const element = document.querySelector('#df-05fc6670-e4fd-491d-b520-6f1b26e4a32d');\n",
              "          const dataTable =\n",
              "            await google.colab.kernel.invokeFunction('convertToInteractive',\n",
              "                                                     [key], {});\n",
              "          if (!dataTable) return;\n",
              "\n",
              "          const docLinkHtml = 'Like what you see? Visit the ' +\n",
              "            '<a target=\"_blank\" href=https://colab.research.google.com/notebooks/data_table.ipynb>data table notebook</a>'\n",
              "            + ' to learn more about interactive tables.';\n",
              "          element.innerHTML = '';\n",
              "          dataTable['output_type'] = 'display_data';\n",
              "          await google.colab.output.renderOutput(dataTable, element);\n",
              "          const docLink = document.createElement('div');\n",
              "          docLink.innerHTML = docLinkHtml;\n",
              "          element.appendChild(docLink);\n",
              "        }\n",
              "      </script>\n",
              "    </div>\n",
              "  </div>\n",
              "  "
            ]
          },
          "metadata": {},
          "execution_count": 70
        }
      ]
    },
    {
      "cell_type": "code",
      "execution_count": 71,
      "metadata": {
        "id": "2dIq4wOW-wg7",
        "colab": {
          "base_uri": "https://localhost:8080/"
        },
        "outputId": "7c78316e-31fe-49f1-d752-199b795456f0"
      },
      "outputs": [
        {
          "output_type": "execute_result",
          "data": {
            "text/plain": [
              "0    2244\n",
              "1     256\n",
              "Name: Personal Loan, dtype: int64"
            ]
          },
          "metadata": {},
          "execution_count": 71
        }
      ],
      "source": [
        "raw_y = loan['Personal Loan']\n",
        "raw_y.value_counts() # 이진분류(0,1) 문제"
      ]
    },
    {
      "cell_type": "code",
      "source": [
        "raw_y.value_counts(normalize = True)"
      ],
      "metadata": {
        "id": "Bs-wnuFy_z8l",
        "colab": {
          "base_uri": "https://localhost:8080/"
        },
        "outputId": "b5bbf94a-6fb0-404d-9ea4-74e847495c08"
      },
      "execution_count": 72,
      "outputs": [
        {
          "output_type": "execute_result",
          "data": {
            "text/plain": [
              "0    0.8976\n",
              "1    0.1024\n",
              "Name: Personal Loan, dtype: float64"
            ]
          },
          "metadata": {},
          "execution_count": 72
        }
      ]
    },
    {
      "cell_type": "markdown",
      "source": [
        "### 범주형 데이터 전처리 (원-핫 인코딩)"
      ],
      "metadata": {
        "id": "bRS5swvP-cmE"
      }
    },
    {
      "cell_type": "markdown",
      "source": [
        "Education 열의 경우, 숫자로 되어있지만 범주형 데이터이다. <br>\n",
        "원-핫 인코딩을 이용해 전처리를 해보도록 하자."
      ],
      "metadata": {
        "id": "FfoJEjU--vfp"
      }
    },
    {
      "cell_type": "code",
      "execution_count": 73,
      "metadata": {
        "id": "18opODaU-wg7",
        "colab": {
          "base_uri": "https://localhost:8080/",
          "height": 0
        },
        "outputId": "8e990f99-a977-4aa5-b021-3e5786742f78"
      },
      "outputs": [
        {
          "output_type": "execute_result",
          "data": {
            "text/plain": [
              "   Age  Experience  Income  Family  CCAvg  Mortgage  Securities Account  \\\n",
              "0   25           1      49       4    1.6         0                   1   \n",
              "1   45          19      34       3    1.5         0                   1   \n",
              "2   39          15      11       1    1.0         0                   0   \n",
              "3   35           9     100       1    2.7         0                   0   \n",
              "4   35           8      45       4    1.0         0                   0   \n",
              "\n",
              "   CD Account  Online  CreditCard  Education_1  Education_2  Education_3  \n",
              "0           0       0           0            1            0            0  \n",
              "1           0       0           0            1            0            0  \n",
              "2           0       0           0            1            0            0  \n",
              "3           0       0           0            0            1            0  \n",
              "4           0       0           1            0            1            0  "
            ],
            "text/html": [
              "\n",
              "  <div id=\"df-00035049-ddb8-4672-a256-499011f02a0e\">\n",
              "    <div class=\"colab-df-container\">\n",
              "      <div>\n",
              "<style scoped>\n",
              "    .dataframe tbody tr th:only-of-type {\n",
              "        vertical-align: middle;\n",
              "    }\n",
              "\n",
              "    .dataframe tbody tr th {\n",
              "        vertical-align: top;\n",
              "    }\n",
              "\n",
              "    .dataframe thead th {\n",
              "        text-align: right;\n",
              "    }\n",
              "</style>\n",
              "<table border=\"1\" class=\"dataframe\">\n",
              "  <thead>\n",
              "    <tr style=\"text-align: right;\">\n",
              "      <th></th>\n",
              "      <th>Age</th>\n",
              "      <th>Experience</th>\n",
              "      <th>Income</th>\n",
              "      <th>Family</th>\n",
              "      <th>CCAvg</th>\n",
              "      <th>Mortgage</th>\n",
              "      <th>Securities Account</th>\n",
              "      <th>CD Account</th>\n",
              "      <th>Online</th>\n",
              "      <th>CreditCard</th>\n",
              "      <th>Education_1</th>\n",
              "      <th>Education_2</th>\n",
              "      <th>Education_3</th>\n",
              "    </tr>\n",
              "  </thead>\n",
              "  <tbody>\n",
              "    <tr>\n",
              "      <th>0</th>\n",
              "      <td>25</td>\n",
              "      <td>1</td>\n",
              "      <td>49</td>\n",
              "      <td>4</td>\n",
              "      <td>1.6</td>\n",
              "      <td>0</td>\n",
              "      <td>1</td>\n",
              "      <td>0</td>\n",
              "      <td>0</td>\n",
              "      <td>0</td>\n",
              "      <td>1</td>\n",
              "      <td>0</td>\n",
              "      <td>0</td>\n",
              "    </tr>\n",
              "    <tr>\n",
              "      <th>1</th>\n",
              "      <td>45</td>\n",
              "      <td>19</td>\n",
              "      <td>34</td>\n",
              "      <td>3</td>\n",
              "      <td>1.5</td>\n",
              "      <td>0</td>\n",
              "      <td>1</td>\n",
              "      <td>0</td>\n",
              "      <td>0</td>\n",
              "      <td>0</td>\n",
              "      <td>1</td>\n",
              "      <td>0</td>\n",
              "      <td>0</td>\n",
              "    </tr>\n",
              "    <tr>\n",
              "      <th>2</th>\n",
              "      <td>39</td>\n",
              "      <td>15</td>\n",
              "      <td>11</td>\n",
              "      <td>1</td>\n",
              "      <td>1.0</td>\n",
              "      <td>0</td>\n",
              "      <td>0</td>\n",
              "      <td>0</td>\n",
              "      <td>0</td>\n",
              "      <td>0</td>\n",
              "      <td>1</td>\n",
              "      <td>0</td>\n",
              "      <td>0</td>\n",
              "    </tr>\n",
              "    <tr>\n",
              "      <th>3</th>\n",
              "      <td>35</td>\n",
              "      <td>9</td>\n",
              "      <td>100</td>\n",
              "      <td>1</td>\n",
              "      <td>2.7</td>\n",
              "      <td>0</td>\n",
              "      <td>0</td>\n",
              "      <td>0</td>\n",
              "      <td>0</td>\n",
              "      <td>0</td>\n",
              "      <td>0</td>\n",
              "      <td>1</td>\n",
              "      <td>0</td>\n",
              "    </tr>\n",
              "    <tr>\n",
              "      <th>4</th>\n",
              "      <td>35</td>\n",
              "      <td>8</td>\n",
              "      <td>45</td>\n",
              "      <td>4</td>\n",
              "      <td>1.0</td>\n",
              "      <td>0</td>\n",
              "      <td>0</td>\n",
              "      <td>0</td>\n",
              "      <td>0</td>\n",
              "      <td>1</td>\n",
              "      <td>0</td>\n",
              "      <td>1</td>\n",
              "      <td>0</td>\n",
              "    </tr>\n",
              "  </tbody>\n",
              "</table>\n",
              "</div>\n",
              "      <button class=\"colab-df-convert\" onclick=\"convertToInteractive('df-00035049-ddb8-4672-a256-499011f02a0e')\"\n",
              "              title=\"Convert this dataframe to an interactive table.\"\n",
              "              style=\"display:none;\">\n",
              "        \n",
              "  <svg xmlns=\"http://www.w3.org/2000/svg\" height=\"24px\"viewBox=\"0 0 24 24\"\n",
              "       width=\"24px\">\n",
              "    <path d=\"M0 0h24v24H0V0z\" fill=\"none\"/>\n",
              "    <path d=\"M18.56 5.44l.94 2.06.94-2.06 2.06-.94-2.06-.94-.94-2.06-.94 2.06-2.06.94zm-11 1L8.5 8.5l.94-2.06 2.06-.94-2.06-.94L8.5 2.5l-.94 2.06-2.06.94zm10 10l.94 2.06.94-2.06 2.06-.94-2.06-.94-.94-2.06-.94 2.06-2.06.94z\"/><path d=\"M17.41 7.96l-1.37-1.37c-.4-.4-.92-.59-1.43-.59-.52 0-1.04.2-1.43.59L10.3 9.45l-7.72 7.72c-.78.78-.78 2.05 0 2.83L4 21.41c.39.39.9.59 1.41.59.51 0 1.02-.2 1.41-.59l7.78-7.78 2.81-2.81c.8-.78.8-2.07 0-2.86zM5.41 20L4 18.59l7.72-7.72 1.47 1.35L5.41 20z\"/>\n",
              "  </svg>\n",
              "      </button>\n",
              "      \n",
              "  <style>\n",
              "    .colab-df-container {\n",
              "      display:flex;\n",
              "      flex-wrap:wrap;\n",
              "      gap: 12px;\n",
              "    }\n",
              "\n",
              "    .colab-df-convert {\n",
              "      background-color: #E8F0FE;\n",
              "      border: none;\n",
              "      border-radius: 50%;\n",
              "      cursor: pointer;\n",
              "      display: none;\n",
              "      fill: #1967D2;\n",
              "      height: 32px;\n",
              "      padding: 0 0 0 0;\n",
              "      width: 32px;\n",
              "    }\n",
              "\n",
              "    .colab-df-convert:hover {\n",
              "      background-color: #E2EBFA;\n",
              "      box-shadow: 0px 1px 2px rgba(60, 64, 67, 0.3), 0px 1px 3px 1px rgba(60, 64, 67, 0.15);\n",
              "      fill: #174EA6;\n",
              "    }\n",
              "\n",
              "    [theme=dark] .colab-df-convert {\n",
              "      background-color: #3B4455;\n",
              "      fill: #D2E3FC;\n",
              "    }\n",
              "\n",
              "    [theme=dark] .colab-df-convert:hover {\n",
              "      background-color: #434B5C;\n",
              "      box-shadow: 0px 1px 3px 1px rgba(0, 0, 0, 0.15);\n",
              "      filter: drop-shadow(0px 1px 2px rgba(0, 0, 0, 0.3));\n",
              "      fill: #FFFFFF;\n",
              "    }\n",
              "  </style>\n",
              "\n",
              "      <script>\n",
              "        const buttonEl =\n",
              "          document.querySelector('#df-00035049-ddb8-4672-a256-499011f02a0e button.colab-df-convert');\n",
              "        buttonEl.style.display =\n",
              "          google.colab.kernel.accessAllowed ? 'block' : 'none';\n",
              "\n",
              "        async function convertToInteractive(key) {\n",
              "          const element = document.querySelector('#df-00035049-ddb8-4672-a256-499011f02a0e');\n",
              "          const dataTable =\n",
              "            await google.colab.kernel.invokeFunction('convertToInteractive',\n",
              "                                                     [key], {});\n",
              "          if (!dataTable) return;\n",
              "\n",
              "          const docLinkHtml = 'Like what you see? Visit the ' +\n",
              "            '<a target=\"_blank\" href=https://colab.research.google.com/notebooks/data_table.ipynb>data table notebook</a>'\n",
              "            + ' to learn more about interactive tables.';\n",
              "          element.innerHTML = '';\n",
              "          dataTable['output_type'] = 'display_data';\n",
              "          await google.colab.output.renderOutput(dataTable, element);\n",
              "          const docLink = document.createElement('div');\n",
              "          docLink.innerHTML = docLinkHtml;\n",
              "          element.appendChild(docLink);\n",
              "        }\n",
              "      </script>\n",
              "    </div>\n",
              "  </div>\n",
              "  "
            ]
          },
          "metadata": {},
          "execution_count": 73
        }
      ],
      "source": [
        "# 연속형이 아니라 범주형인 'Education'열을 One-hot Encoding으로 전처리\n",
        "raw_X_one_hot = pd.get_dummies(data=raw_X, columns=['Education'], prefix='Education')\n",
        "raw_X_one_hot.head()"
      ]
    },
    {
      "cell_type": "markdown",
      "metadata": {
        "id": "pt96HWZx-wg7"
      },
      "source": [
        "### 훈련 세트와 테스트 세트 분리"
      ]
    },
    {
      "cell_type": "code",
      "execution_count": 74,
      "metadata": {
        "id": "R0FU9lB1-wg7",
        "colab": {
          "base_uri": "https://localhost:8080/"
        },
        "outputId": "ce3ddb8c-634e-4975-854b-4ebdfb839f5c"
      },
      "outputs": [
        {
          "output_type": "stream",
          "name": "stdout",
          "text": [
            "(1750, 13) (750, 13) (1750,) (750,)\n"
          ]
        }
      ],
      "source": [
        "from sklearn.model_selection import train_test_split\n",
        "\n",
        "train_X, test_X, train_y, test_y = train_test_split(raw_X_one_hot, raw_y, train_size=0.7, test_size=0.3, random_state=1, stratify=raw_y)\n",
        "print(train_X.shape, test_X.shape, train_y.shape, test_y.shape)"
      ]
    },
    {
      "cell_type": "code",
      "source": [
        "raw_y.value_counts() \n",
        "# 0의 비율: 0.8976\n",
        "# 1의 비율: 0.1024"
      ],
      "metadata": {
        "id": "UiANSkQOAnSG",
        "colab": {
          "base_uri": "https://localhost:8080/"
        },
        "outputId": "6fdb7c09-80da-494e-a989-e49341bb17e7"
      },
      "execution_count": 75,
      "outputs": [
        {
          "output_type": "execute_result",
          "data": {
            "text/plain": [
              "0    2244\n",
              "1     256\n",
              "Name: Personal Loan, dtype: int64"
            ]
          },
          "metadata": {},
          "execution_count": 75
        }
      ]
    },
    {
      "cell_type": "code",
      "source": [
        "test_y.value_counts()\n",
        "# 0의 비율: 0.8973\n",
        "# 1의 비율: 0.1027"
      ],
      "metadata": {
        "id": "mSNrqJCtAaDR",
        "colab": {
          "base_uri": "https://localhost:8080/"
        },
        "outputId": "bd63b495-84a5-4e2e-fa8d-645ee7b51366"
      },
      "execution_count": 76,
      "outputs": [
        {
          "output_type": "execute_result",
          "data": {
            "text/plain": [
              "0    673\n",
              "1     77\n",
              "Name: Personal Loan, dtype: int64"
            ]
          },
          "metadata": {},
          "execution_count": 76
        }
      ]
    },
    {
      "cell_type": "code",
      "source": [
        "train_y.value_counts()\n",
        "# 0의 비율: 0.8977\n",
        "# 1의 비율: 0.1023"
      ],
      "metadata": {
        "id": "Wy-hld7bAfij",
        "colab": {
          "base_uri": "https://localhost:8080/"
        },
        "outputId": "1569dc5e-db2f-4bc1-d4b5-62fd4f5a4532"
      },
      "execution_count": 77,
      "outputs": [
        {
          "output_type": "execute_result",
          "data": {
            "text/plain": [
              "0    1571\n",
              "1     179\n",
              "Name: Personal Loan, dtype: int64"
            ]
          },
          "metadata": {},
          "execution_count": 77
        }
      ]
    },
    {
      "cell_type": "markdown",
      "source": [
        "### 최적의 하이퍼 파라미터 찾기 : 그리드 서치"
      ],
      "metadata": {
        "id": "46ldJVxJDRjf"
      }
    },
    {
      "cell_type": "markdown",
      "source": [
        "Gridsearch: 관심 있는 매개변수들을 대상으로 가능한 모든 조합을 시도하여 최적의 매개변수를 찾는 방법. <br> 즉, 우리에게 필요한 최적의 하이퍼 파라미터를 찾아준다 <br>\n",
        "ex) max_depth를 몇으로 설정하는게 좋은지 등등 <br>\n",
        "\n",
        "GridSearch는 확인하고 싶은 다양한 파라미터값을 넣어주면,\n",
        "그것들을 하나씩 확인하면서 스코어를 내고, <br>\n",
        "가장 좋은 성능의 모델에 대한 결과를 확인하고 사용할 수 있음"
      ],
      "metadata": {
        "id": "cPc4q8lbEtqy"
      }
    },
    {
      "cell_type": "markdown",
      "source": [
        "model_selection 모듈의 GridSearchCV 함수는 GridSearch + Cross validation의 약어로, <br>\n",
        "k개의 폴드에 대해 최적의 하이퍼 파라미터를 모두 종합적으로 고려하여 최적의 파라미터를 출력한다. <br> 이때, 테스트하고자 하는 파라미터 값들을 사전(dictionary) 타입으로 정의해주어야 한다."
      ],
      "metadata": {
        "id": "KEjO__UyFnkD"
      }
    },
    {
      "cell_type": "markdown",
      "metadata": {
        "id": "ZrMaJqJZN4qn"
      },
      "source": [
        "max_depth, min_samples_split에 대한 hyperparameter tuning을 실습해보자."
      ]
    },
    {
      "cell_type": "code",
      "execution_count": 78,
      "metadata": {
        "id": "NnKStiY9anlF",
        "colab": {
          "base_uri": "https://localhost:8080/"
        },
        "outputId": "684e7f4d-aae9-454c-e9cb-d397fd885ba2"
      },
      "outputs": [
        {
          "output_type": "execute_result",
          "data": {
            "text/plain": [
              "GridSearchCV(cv=5, estimator=DecisionTreeClassifier(),\n",
              "             param_grid={'max_depth': [2, 3, 4, 5, 6, 7],\n",
              "                         'min_samples_split': [2, 3, 4, 5, 6, 7, 8, 9, 10, 11,\n",
              "                                               12, 13, 14, 15, 16, 17, 18,\n",
              "                                               19]})"
            ]
          },
          "metadata": {},
          "execution_count": 78
        }
      ],
      "source": [
        "from sklearn.tree import DecisionTreeClassifier\n",
        "\n",
        "loan_tree = DecisionTreeClassifier()\n",
        "loan_tree.fit(train_X, train_y)\n",
        "\n",
        "from sklearn.model_selection import GridSearchCV # 관심 있는 매개변수들을 대상으로 가능한 모든 조합을 시도하여 최적의 매개변수를 찾는 방법\n",
        "\n",
        "# 테스트하고자 하는 파라미터 값들을 사전타입으로 정의\n",
        "# max_depth 와 min_samples_split라는 parameter에 대해 범위 지정\n",
        "hyperparamters = {'max_depth': list(range(2, 8)),  'min_samples_split': list(range(2, 20))}\n",
        "\n",
        "# GridSearch 진행\n",
        "GridCV = GridSearchCV(estimator=loan_tree, param_grid=hyperparamters, cv=5)\n",
        "GridCV.fit(train_X, train_y)"
      ]
    },
    {
      "cell_type": "code",
      "source": [
        "print(GridCV.best_params_) # 가장 좋은 성능을 보였을 때의 parameter\n",
        "print(GridCV.best_score_) #위 파라미터로 했을 때 성능(평균 정확도)"
      ],
      "metadata": {
        "id": "i269YnrzI7xq",
        "colab": {
          "base_uri": "https://localhost:8080/"
        },
        "outputId": "4b277d84-a952-4119-ee43-0602e9467667"
      },
      "execution_count": 79,
      "outputs": [
        {
          "output_type": "stream",
          "name": "stdout",
          "text": [
            "{'max_depth': 5, 'min_samples_split': 2}\n",
            "0.9834285714285713\n"
          ]
        }
      ]
    },
    {
      "cell_type": "code",
      "source": [
        "GridCV.best_score_ #위 파라미터로 했을 때 성능(평균 정확도)"
      ],
      "metadata": {
        "id": "laiByL_cI9_U",
        "colab": {
          "base_uri": "https://localhost:8080/"
        },
        "outputId": "d5e9011f-6115-4605-cb8c-3bce19173e71"
      },
      "execution_count": 80,
      "outputs": [
        {
          "output_type": "execute_result",
          "data": {
            "text/plain": [
              "0.9834285714285713"
            ]
          },
          "metadata": {},
          "execution_count": 80
        }
      ]
    },
    {
      "cell_type": "code",
      "source": [
        "#위 파라미터 값들로 모델을 훈련시켜보자!\n",
        "loan_tree = DecisionTreeClassifier(max_depth=5, min_samples_split=9, random_state=0).fit(train_X, train_y)"
      ],
      "metadata": {
        "id": "BM2f55yBHciV"
      },
      "execution_count": 81,
      "outputs": []
    },
    {
      "cell_type": "code",
      "source": [
        "#원래의 트리 성능\n",
        "from sklearn.metrics import accuracy_score, f1_score\n",
        "\n",
        "print(\"Decision Tree Accuracy for test data : {:.3f}\".format(accuracy_score(test_y, loan_tree.predict(test_X))))\n",
        "print(\"Decision Tree F1 score for test data : {:.3f}\".format(f1_score(test_y, loan_tree.predict(test_X))))"
      ],
      "metadata": {
        "id": "Fxy2MrUAHYAB",
        "colab": {
          "base_uri": "https://localhost:8080/"
        },
        "outputId": "44171460-04fb-4c95-cd62-d5a011ce49c1"
      },
      "execution_count": 82,
      "outputs": [
        {
          "output_type": "stream",
          "name": "stdout",
          "text": [
            "Decision Tree Accuracy for test data : 0.979\n",
            "Decision Tree F1 score for test data : 0.893\n"
          ]
        }
      ]
    },
    {
      "cell_type": "markdown",
      "source": [
        "### 시각화"
      ],
      "metadata": {
        "id": "1NSFqolbCtad"
      }
    },
    {
      "cell_type": "code",
      "source": [
        "#export_graphviz 함수: graphviz 패키지를 불러와 시각화하기 위한 파일을 만든다\n",
        "from sklearn.tree import export_graphviz\n",
        "\n",
        "#export_graphviz()의 호출 결과로 out_file로 파일을 생성함\n",
        "export_graphviz(loan_tree, #모델의 이름\n",
        "                out_file = \"loan_tree.dot\",\n",
        "                feature_names = train_X.columns,\n",
        "                impurity = True, # impurity = True: 분순도를 표기 (True가 디폴트)\n",
        "                filled = True) # filled = True: 색깔을 추가 (False가 디폴트) "
      ],
      "metadata": {
        "id": "LwCvQg6iCtad"
      },
      "execution_count": 83,
      "outputs": []
    },
    {
      "cell_type": "code",
      "source": [
        "# 결정트리를 위한 시각화 패키지\n",
        "import graphviz\n",
        "\n",
        "#loan_tree 파일 열기 / 읽기\n",
        "with open(\"loan_tree.dot\") as f:\n",
        "  dot_graph = f.read()\n",
        "\n",
        "#시각화\n",
        "graphviz.Source(dot_graph)"
      ],
      "metadata": {
        "id": "TzZsB0f6Ctae",
        "colab": {
          "base_uri": "https://localhost:8080/",
          "height": 795
        },
        "outputId": "b7bc9229-ff8c-4231-b2a8-ad0eaed2f228"
      },
      "execution_count": 84,
      "outputs": [
        {
          "output_type": "execute_result",
          "data": {
            "text/plain": [
              "<graphviz.files.Source at 0x7f87c8098310>"
            ],
            "image/svg+xml": "<?xml version=\"1.0\" encoding=\"UTF-8\" standalone=\"no\"?>\n<!DOCTYPE svg PUBLIC \"-//W3C//DTD SVG 1.1//EN\"\n \"http://www.w3.org/Graphics/SVG/1.1/DTD/svg11.dtd\">\n<!-- Generated by graphviz version 2.43.0 (0)\n -->\n<!-- Title: Tree Pages: 1 -->\n<svg width=\"1282pt\" height=\"581pt\"\n viewBox=\"0.00 0.00 1282.00 581.00\" xmlns=\"http://www.w3.org/2000/svg\" xmlns:xlink=\"http://www.w3.org/1999/xlink\">\n<g id=\"graph0\" class=\"graph\" transform=\"scale(1 1) rotate(0) translate(4 577)\">\n<title>Tree</title>\n<polygon fill=\"white\" stroke=\"transparent\" points=\"-4,4 -4,-577 1278,-577 1278,4 -4,4\"/>\n<!-- 0 -->\n<g id=\"node1\" class=\"node\">\n<title>0</title>\n<polygon fill=\"#e88f50\" stroke=\"black\" points=\"942,-573 810,-573 810,-505 942,-505 942,-573\"/>\n<text text-anchor=\"middle\" x=\"876\" y=\"-557.8\" font-family=\"Helvetica,sans-Serif\" font-size=\"14.00\">Income &lt;= 114.5</text>\n<text text-anchor=\"middle\" x=\"876\" y=\"-542.8\" font-family=\"Helvetica,sans-Serif\" font-size=\"14.00\">gini = 0.184</text>\n<text text-anchor=\"middle\" x=\"876\" y=\"-527.8\" font-family=\"Helvetica,sans-Serif\" font-size=\"14.00\">samples = 1750</text>\n<text text-anchor=\"middle\" x=\"876\" y=\"-512.8\" font-family=\"Helvetica,sans-Serif\" font-size=\"14.00\">value = [1571, 179]</text>\n</g>\n<!-- 1 -->\n<g id=\"node2\" class=\"node\">\n<title>1</title>\n<polygon fill=\"#e6853f\" stroke=\"black\" points=\"864.5,-469 739.5,-469 739.5,-401 864.5,-401 864.5,-469\"/>\n<text text-anchor=\"middle\" x=\"802\" y=\"-453.8\" font-family=\"Helvetica,sans-Serif\" font-size=\"14.00\">CCAvg &lt;= 2.95</text>\n<text text-anchor=\"middle\" x=\"802\" y=\"-438.8\" font-family=\"Helvetica,sans-Serif\" font-size=\"14.00\">gini = 0.053</text>\n<text text-anchor=\"middle\" x=\"802\" y=\"-423.8\" font-family=\"Helvetica,sans-Serif\" font-size=\"14.00\">samples = 1405</text>\n<text text-anchor=\"middle\" x=\"802\" y=\"-408.8\" font-family=\"Helvetica,sans-Serif\" font-size=\"14.00\">value = [1367, 38]</text>\n</g>\n<!-- 0&#45;&gt;1 -->\n<g id=\"edge1\" class=\"edge\">\n<title>0&#45;&gt;1</title>\n<path fill=\"none\" stroke=\"black\" d=\"M851.97,-504.88C845.64,-496.15 838.73,-486.62 832.12,-477.51\"/>\n<polygon fill=\"black\" stroke=\"black\" points=\"834.86,-475.34 826.16,-469.3 829.2,-479.45 834.86,-475.34\"/>\n<text text-anchor=\"middle\" x=\"822.23\" y=\"-490.29\" font-family=\"Helvetica,sans-Serif\" font-size=\"14.00\">True</text>\n</g>\n<!-- 24 -->\n<g id=\"node25\" class=\"node\">\n<title>24</title>\n<polygon fill=\"#f7d8c2\" stroke=\"black\" points=\"1023,-469 889,-469 889,-401 1023,-401 1023,-469\"/>\n<text text-anchor=\"middle\" x=\"956\" y=\"-453.8\" font-family=\"Helvetica,sans-Serif\" font-size=\"14.00\">Education_1 &lt;= 0.5</text>\n<text text-anchor=\"middle\" x=\"956\" y=\"-438.8\" font-family=\"Helvetica,sans-Serif\" font-size=\"14.00\">gini = 0.483</text>\n<text text-anchor=\"middle\" x=\"956\" y=\"-423.8\" font-family=\"Helvetica,sans-Serif\" font-size=\"14.00\">samples = 345</text>\n<text text-anchor=\"middle\" x=\"956\" y=\"-408.8\" font-family=\"Helvetica,sans-Serif\" font-size=\"14.00\">value = [204, 141]</text>\n</g>\n<!-- 0&#45;&gt;24 -->\n<g id=\"edge24\" class=\"edge\">\n<title>0&#45;&gt;24</title>\n<path fill=\"none\" stroke=\"black\" d=\"M901.97,-504.88C908.89,-496.07 916.45,-486.43 923.66,-477.24\"/>\n<polygon fill=\"black\" stroke=\"black\" points=\"926.47,-479.33 929.88,-469.3 920.96,-475.01 926.47,-479.33\"/>\n<text text-anchor=\"middle\" x=\"932.88\" y=\"-490.42\" font-family=\"Helvetica,sans-Serif\" font-size=\"14.00\">False</text>\n</g>\n<!-- 2 -->\n<g id=\"node3\" class=\"node\">\n<title>2</title>\n<polygon fill=\"#e5823a\" stroke=\"black\" points=\"407.5,-365 288.5,-365 288.5,-297 407.5,-297 407.5,-365\"/>\n<text text-anchor=\"middle\" x=\"348\" y=\"-349.8\" font-family=\"Helvetica,sans-Serif\" font-size=\"14.00\">Income &lt;= 108.5</text>\n<text text-anchor=\"middle\" x=\"348\" y=\"-334.8\" font-family=\"Helvetica,sans-Serif\" font-size=\"14.00\">gini = 0.011</text>\n<text text-anchor=\"middle\" x=\"348\" y=\"-319.8\" font-family=\"Helvetica,sans-Serif\" font-size=\"14.00\">samples = 1294</text>\n<text text-anchor=\"middle\" x=\"348\" y=\"-304.8\" font-family=\"Helvetica,sans-Serif\" font-size=\"14.00\">value = [1287, 7]</text>\n</g>\n<!-- 1&#45;&gt;2 -->\n<g id=\"edge2\" class=\"edge\">\n<title>1&#45;&gt;2</title>\n<path fill=\"none\" stroke=\"black\" d=\"M739.35,-419.92C655.03,-400.98 505.5,-367.39 417.71,-347.66\"/>\n<polygon fill=\"black\" stroke=\"black\" points=\"418.37,-344.22 407.84,-345.44 416.83,-351.05 418.37,-344.22\"/>\n</g>\n<!-- 11 -->\n<g id=\"node12\" class=\"node\">\n<title>11</title>\n<polygon fill=\"#efb286\" stroke=\"black\" points=\"867.5,-365 736.5,-365 736.5,-297 867.5,-297 867.5,-365\"/>\n<text text-anchor=\"middle\" x=\"802\" y=\"-349.8\" font-family=\"Helvetica,sans-Serif\" font-size=\"14.00\">CD Account &lt;= 0.5</text>\n<text text-anchor=\"middle\" x=\"802\" y=\"-334.8\" font-family=\"Helvetica,sans-Serif\" font-size=\"14.00\">gini = 0.403</text>\n<text text-anchor=\"middle\" x=\"802\" y=\"-319.8\" font-family=\"Helvetica,sans-Serif\" font-size=\"14.00\">samples = 111</text>\n<text text-anchor=\"middle\" x=\"802\" y=\"-304.8\" font-family=\"Helvetica,sans-Serif\" font-size=\"14.00\">value = [80, 31]</text>\n</g>\n<!-- 1&#45;&gt;11 -->\n<g id=\"edge11\" class=\"edge\">\n<title>1&#45;&gt;11</title>\n<path fill=\"none\" stroke=\"black\" d=\"M802,-400.88C802,-392.78 802,-383.98 802,-375.47\"/>\n<polygon fill=\"black\" stroke=\"black\" points=\"805.5,-375.3 802,-365.3 798.5,-375.3 805.5,-375.3\"/>\n</g>\n<!-- 3 -->\n<g id=\"node4\" class=\"node\">\n<title>3</title>\n<polygon fill=\"#e58139\" stroke=\"black\" points=\"278.5,-253.5 161.5,-253.5 161.5,-200.5 278.5,-200.5 278.5,-253.5\"/>\n<text text-anchor=\"middle\" x=\"220\" y=\"-238.3\" font-family=\"Helvetica,sans-Serif\" font-size=\"14.00\">gini = 0.0</text>\n<text text-anchor=\"middle\" x=\"220\" y=\"-223.3\" font-family=\"Helvetica,sans-Serif\" font-size=\"14.00\">samples = 1251</text>\n<text text-anchor=\"middle\" x=\"220\" y=\"-208.3\" font-family=\"Helvetica,sans-Serif\" font-size=\"14.00\">value = [1251, 0]</text>\n</g>\n<!-- 2&#45;&gt;3 -->\n<g id=\"edge3\" class=\"edge\">\n<title>2&#45;&gt;3</title>\n<path fill=\"none\" stroke=\"black\" d=\"M306.44,-296.88C291.54,-285.01 274.77,-271.65 260,-259.88\"/>\n<polygon fill=\"black\" stroke=\"black\" points=\"262.03,-257.01 252.03,-253.52 257.66,-262.49 262.03,-257.01\"/>\n</g>\n<!-- 4 -->\n<g id=\"node5\" class=\"node\">\n<title>4</title>\n<polygon fill=\"#ea9a5f\" stroke=\"black\" points=\"399,-261 297,-261 297,-193 399,-193 399,-261\"/>\n<text text-anchor=\"middle\" x=\"348\" y=\"-245.8\" font-family=\"Helvetica,sans-Serif\" font-size=\"14.00\">Family &lt;= 2.5</text>\n<text text-anchor=\"middle\" x=\"348\" y=\"-230.8\" font-family=\"Helvetica,sans-Serif\" font-size=\"14.00\">gini = 0.273</text>\n<text text-anchor=\"middle\" x=\"348\" y=\"-215.8\" font-family=\"Helvetica,sans-Serif\" font-size=\"14.00\">samples = 43</text>\n<text text-anchor=\"middle\" x=\"348\" y=\"-200.8\" font-family=\"Helvetica,sans-Serif\" font-size=\"14.00\">value = [36, 7]</text>\n</g>\n<!-- 2&#45;&gt;4 -->\n<g id=\"edge4\" class=\"edge\">\n<title>2&#45;&gt;4</title>\n<path fill=\"none\" stroke=\"black\" d=\"M348,-296.88C348,-288.78 348,-279.98 348,-271.47\"/>\n<polygon fill=\"black\" stroke=\"black\" points=\"351.5,-271.3 348,-261.3 344.5,-271.3 351.5,-271.3\"/>\n</g>\n<!-- 5 -->\n<g id=\"node6\" class=\"node\">\n<title>5</title>\n<polygon fill=\"#e68641\" stroke=\"black\" points=\"219,-157 117,-157 117,-89 219,-89 219,-157\"/>\n<text text-anchor=\"middle\" x=\"168\" y=\"-141.8\" font-family=\"Helvetica,sans-Serif\" font-size=\"14.00\">CCAvg &lt;= 2.3</text>\n<text text-anchor=\"middle\" x=\"168\" y=\"-126.8\" font-family=\"Helvetica,sans-Serif\" font-size=\"14.00\">gini = 0.077</text>\n<text text-anchor=\"middle\" x=\"168\" y=\"-111.8\" font-family=\"Helvetica,sans-Serif\" font-size=\"14.00\">samples = 25</text>\n<text text-anchor=\"middle\" x=\"168\" y=\"-96.8\" font-family=\"Helvetica,sans-Serif\" font-size=\"14.00\">value = [24, 1]</text>\n</g>\n<!-- 4&#45;&gt;5 -->\n<g id=\"edge5\" class=\"edge\">\n<title>4&#45;&gt;5</title>\n<path fill=\"none\" stroke=\"black\" d=\"M296.9,-197.04C275.43,-184.88 250.3,-170.64 227.96,-157.98\"/>\n<polygon fill=\"black\" stroke=\"black\" points=\"229.65,-154.91 219.23,-153.03 226.2,-161 229.65,-154.91\"/>\n</g>\n<!-- 8 -->\n<g id=\"node9\" class=\"node\">\n<title>8</title>\n<polygon fill=\"#f2c09c\" stroke=\"black\" points=\"411.5,-157 284.5,-157 284.5,-89 411.5,-89 411.5,-157\"/>\n<text text-anchor=\"middle\" x=\"348\" y=\"-141.8\" font-family=\"Helvetica,sans-Serif\" font-size=\"14.00\">Experience &lt;= 3.5</text>\n<text text-anchor=\"middle\" x=\"348\" y=\"-126.8\" font-family=\"Helvetica,sans-Serif\" font-size=\"14.00\">gini = 0.444</text>\n<text text-anchor=\"middle\" x=\"348\" y=\"-111.8\" font-family=\"Helvetica,sans-Serif\" font-size=\"14.00\">samples = 18</text>\n<text text-anchor=\"middle\" x=\"348\" y=\"-96.8\" font-family=\"Helvetica,sans-Serif\" font-size=\"14.00\">value = [12, 6]</text>\n</g>\n<!-- 4&#45;&gt;8 -->\n<g id=\"edge8\" class=\"edge\">\n<title>4&#45;&gt;8</title>\n<path fill=\"none\" stroke=\"black\" d=\"M348,-192.88C348,-184.78 348,-175.98 348,-167.47\"/>\n<polygon fill=\"black\" stroke=\"black\" points=\"351.5,-167.3 348,-157.3 344.5,-167.3 351.5,-167.3\"/>\n</g>\n<!-- 6 -->\n<g id=\"node7\" class=\"node\">\n<title>6</title>\n<polygon fill=\"#e58139\" stroke=\"black\" points=\"102,-53 0,-53 0,0 102,0 102,-53\"/>\n<text text-anchor=\"middle\" x=\"51\" y=\"-37.8\" font-family=\"Helvetica,sans-Serif\" font-size=\"14.00\">gini = 0.0</text>\n<text text-anchor=\"middle\" x=\"51\" y=\"-22.8\" font-family=\"Helvetica,sans-Serif\" font-size=\"14.00\">samples = 21</text>\n<text text-anchor=\"middle\" x=\"51\" y=\"-7.8\" font-family=\"Helvetica,sans-Serif\" font-size=\"14.00\">value = [21, 0]</text>\n</g>\n<!-- 5&#45;&gt;6 -->\n<g id=\"edge6\" class=\"edge\">\n<title>5&#45;&gt;6</title>\n<path fill=\"none\" stroke=\"black\" d=\"M127.08,-88.95C115.3,-79.43 102.47,-69.07 90.76,-59.62\"/>\n<polygon fill=\"black\" stroke=\"black\" points=\"92.84,-56.8 82.86,-53.24 88.44,-62.24 92.84,-56.8\"/>\n</g>\n<!-- 7 -->\n<g id=\"node8\" class=\"node\">\n<title>7</title>\n<polygon fill=\"#eeab7b\" stroke=\"black\" points=\"215.5,-53 120.5,-53 120.5,0 215.5,0 215.5,-53\"/>\n<text text-anchor=\"middle\" x=\"168\" y=\"-37.8\" font-family=\"Helvetica,sans-Serif\" font-size=\"14.00\">gini = 0.375</text>\n<text text-anchor=\"middle\" x=\"168\" y=\"-22.8\" font-family=\"Helvetica,sans-Serif\" font-size=\"14.00\">samples = 4</text>\n<text text-anchor=\"middle\" x=\"168\" y=\"-7.8\" font-family=\"Helvetica,sans-Serif\" font-size=\"14.00\">value = [3, 1]</text>\n</g>\n<!-- 5&#45;&gt;7 -->\n<g id=\"edge7\" class=\"edge\">\n<title>5&#45;&gt;7</title>\n<path fill=\"none\" stroke=\"black\" d=\"M168,-88.95C168,-80.72 168,-71.85 168,-63.48\"/>\n<polygon fill=\"black\" stroke=\"black\" points=\"171.5,-63.24 168,-53.24 164.5,-63.24 171.5,-63.24\"/>\n</g>\n<!-- 9 -->\n<g id=\"node10\" class=\"node\">\n<title>9</title>\n<polygon fill=\"#e58139\" stroke=\"black\" points=\"328.5,-53 233.5,-53 233.5,0 328.5,0 328.5,-53\"/>\n<text text-anchor=\"middle\" x=\"281\" y=\"-37.8\" font-family=\"Helvetica,sans-Serif\" font-size=\"14.00\">gini = 0.0</text>\n<text text-anchor=\"middle\" x=\"281\" y=\"-22.8\" font-family=\"Helvetica,sans-Serif\" font-size=\"14.00\">samples = 9</text>\n<text text-anchor=\"middle\" x=\"281\" y=\"-7.8\" font-family=\"Helvetica,sans-Serif\" font-size=\"14.00\">value = [9, 0]</text>\n</g>\n<!-- 8&#45;&gt;9 -->\n<g id=\"edge9\" class=\"edge\">\n<title>8&#45;&gt;9</title>\n<path fill=\"none\" stroke=\"black\" d=\"M324.57,-88.95C318.28,-80.07 311.46,-70.46 305.13,-61.54\"/>\n<polygon fill=\"black\" stroke=\"black\" points=\"307.89,-59.37 299.25,-53.24 302.18,-63.42 307.89,-59.37\"/>\n</g>\n<!-- 10 -->\n<g id=\"node11\" class=\"node\">\n<title>10</title>\n<polygon fill=\"#9ccef2\" stroke=\"black\" points=\"441.5,-53 346.5,-53 346.5,0 441.5,0 441.5,-53\"/>\n<text text-anchor=\"middle\" x=\"394\" y=\"-37.8\" font-family=\"Helvetica,sans-Serif\" font-size=\"14.00\">gini = 0.444</text>\n<text text-anchor=\"middle\" x=\"394\" y=\"-22.8\" font-family=\"Helvetica,sans-Serif\" font-size=\"14.00\">samples = 9</text>\n<text text-anchor=\"middle\" x=\"394\" y=\"-7.8\" font-family=\"Helvetica,sans-Serif\" font-size=\"14.00\">value = [3, 6]</text>\n</g>\n<!-- 8&#45;&gt;10 -->\n<g id=\"edge10\" class=\"edge\">\n<title>8&#45;&gt;10</title>\n<path fill=\"none\" stroke=\"black\" d=\"M364.09,-88.95C368.27,-80.35 372.8,-71.06 377.03,-62.37\"/>\n<polygon fill=\"black\" stroke=\"black\" points=\"380.24,-63.76 381.47,-53.24 373.95,-60.7 380.24,-63.76\"/>\n</g>\n<!-- 12 -->\n<g id=\"node13\" class=\"node\">\n<title>12</title>\n<polygon fill=\"#eca16c\" stroke=\"black\" points=\"852,-261 742,-261 742,-193 852,-193 852,-261\"/>\n<text text-anchor=\"middle\" x=\"797\" y=\"-245.8\" font-family=\"Helvetica,sans-Serif\" font-size=\"14.00\">Family &lt;= 2.5</text>\n<text text-anchor=\"middle\" x=\"797\" y=\"-230.8\" font-family=\"Helvetica,sans-Serif\" font-size=\"14.00\">gini = 0.325</text>\n<text text-anchor=\"middle\" x=\"797\" y=\"-215.8\" font-family=\"Helvetica,sans-Serif\" font-size=\"14.00\">samples = 98</text>\n<text text-anchor=\"middle\" x=\"797\" y=\"-200.8\" font-family=\"Helvetica,sans-Serif\" font-size=\"14.00\">value = [78, 20]</text>\n</g>\n<!-- 11&#45;&gt;12 -->\n<g id=\"edge12\" class=\"edge\">\n<title>11&#45;&gt;12</title>\n<path fill=\"none\" stroke=\"black\" d=\"M800.38,-296.88C799.98,-288.78 799.55,-279.98 799.13,-271.47\"/>\n<polygon fill=\"black\" stroke=\"black\" points=\"802.62,-271.12 798.63,-261.3 795.63,-271.46 802.62,-271.12\"/>\n</g>\n<!-- 19 -->\n<g id=\"node20\" class=\"node\">\n<title>19</title>\n<polygon fill=\"#5dafea\" stroke=\"black\" points=\"1026,-261 892,-261 892,-193 1026,-193 1026,-261\"/>\n<text text-anchor=\"middle\" x=\"959\" y=\"-245.8\" font-family=\"Helvetica,sans-Serif\" font-size=\"14.00\">Education_3 &lt;= 0.5</text>\n<text text-anchor=\"middle\" x=\"959\" y=\"-230.8\" font-family=\"Helvetica,sans-Serif\" font-size=\"14.00\">gini = 0.26</text>\n<text text-anchor=\"middle\" x=\"959\" y=\"-215.8\" font-family=\"Helvetica,sans-Serif\" font-size=\"14.00\">samples = 13</text>\n<text text-anchor=\"middle\" x=\"959\" y=\"-200.8\" font-family=\"Helvetica,sans-Serif\" font-size=\"14.00\">value = [2, 11]</text>\n</g>\n<!-- 11&#45;&gt;19 -->\n<g id=\"edge19\" class=\"edge\">\n<title>11&#45;&gt;19</title>\n<path fill=\"none\" stroke=\"black\" d=\"M852.97,-296.88C867.86,-287.21 884.25,-276.56 899.61,-266.59\"/>\n<polygon fill=\"black\" stroke=\"black\" points=\"901.54,-269.51 908.01,-261.12 897.72,-263.64 901.54,-269.51\"/>\n</g>\n<!-- 13 -->\n<g id=\"node14\" class=\"node\">\n<title>13</title>\n<polygon fill=\"#e88f4f\" stroke=\"black\" points=\"679,-157 569,-157 569,-89 679,-89 679,-157\"/>\n<text text-anchor=\"middle\" x=\"624\" y=\"-141.8\" font-family=\"Helvetica,sans-Serif\" font-size=\"14.00\">CCAvg &lt;= 3.05</text>\n<text text-anchor=\"middle\" x=\"624\" y=\"-126.8\" font-family=\"Helvetica,sans-Serif\" font-size=\"14.00\">gini = 0.18</text>\n<text text-anchor=\"middle\" x=\"624\" y=\"-111.8\" font-family=\"Helvetica,sans-Serif\" font-size=\"14.00\">samples = 60</text>\n<text text-anchor=\"middle\" x=\"624\" y=\"-96.8\" font-family=\"Helvetica,sans-Serif\" font-size=\"14.00\">value = [54, 6]</text>\n</g>\n<!-- 12&#45;&gt;13 -->\n<g id=\"edge13\" class=\"edge\">\n<title>12&#45;&gt;13</title>\n<path fill=\"none\" stroke=\"black\" d=\"M741.79,-193.45C724.78,-183.42 705.9,-172.29 688.33,-161.93\"/>\n<polygon fill=\"black\" stroke=\"black\" points=\"689.67,-158.66 679.28,-156.59 686.12,-164.69 689.67,-158.66\"/>\n</g>\n<!-- 16 -->\n<g id=\"node17\" class=\"node\">\n<title>16</title>\n<polygon fill=\"#f4caac\" stroke=\"black\" points=\"853,-157 741,-157 741,-89 853,-89 853,-157\"/>\n<text text-anchor=\"middle\" x=\"797\" y=\"-141.8\" font-family=\"Helvetica,sans-Serif\" font-size=\"14.00\">Income &lt;= 90.0</text>\n<text text-anchor=\"middle\" x=\"797\" y=\"-126.8\" font-family=\"Helvetica,sans-Serif\" font-size=\"14.00\">gini = 0.465</text>\n<text text-anchor=\"middle\" x=\"797\" y=\"-111.8\" font-family=\"Helvetica,sans-Serif\" font-size=\"14.00\">samples = 38</text>\n<text text-anchor=\"middle\" x=\"797\" y=\"-96.8\" font-family=\"Helvetica,sans-Serif\" font-size=\"14.00\">value = [24, 14]</text>\n</g>\n<!-- 12&#45;&gt;16 -->\n<g id=\"edge16\" class=\"edge\">\n<title>12&#45;&gt;16</title>\n<path fill=\"none\" stroke=\"black\" d=\"M797,-192.88C797,-184.78 797,-175.98 797,-167.47\"/>\n<polygon fill=\"black\" stroke=\"black\" points=\"800.5,-167.3 797,-157.3 793.5,-167.3 800.5,-167.3\"/>\n</g>\n<!-- 14 -->\n<g id=\"node15\" class=\"node\">\n<title>14</title>\n<polygon fill=\"#9ccef2\" stroke=\"black\" points=\"554.5,-53 459.5,-53 459.5,0 554.5,0 554.5,-53\"/>\n<text text-anchor=\"middle\" x=\"507\" y=\"-37.8\" font-family=\"Helvetica,sans-Serif\" font-size=\"14.00\">gini = 0.444</text>\n<text text-anchor=\"middle\" x=\"507\" y=\"-22.8\" font-family=\"Helvetica,sans-Serif\" font-size=\"14.00\">samples = 3</text>\n<text text-anchor=\"middle\" x=\"507\" y=\"-7.8\" font-family=\"Helvetica,sans-Serif\" font-size=\"14.00\">value = [1, 2]</text>\n</g>\n<!-- 13&#45;&gt;14 -->\n<g id=\"edge14\" class=\"edge\">\n<title>13&#45;&gt;14</title>\n<path fill=\"none\" stroke=\"black\" d=\"M583.08,-88.95C571.3,-79.43 558.47,-69.07 546.76,-59.62\"/>\n<polygon fill=\"black\" stroke=\"black\" points=\"548.84,-56.8 538.86,-53.24 544.44,-62.24 548.84,-56.8\"/>\n</g>\n<!-- 15 -->\n<g id=\"node16\" class=\"node\">\n<title>15</title>\n<polygon fill=\"#e78b48\" stroke=\"black\" points=\"675,-53 573,-53 573,0 675,0 675,-53\"/>\n<text text-anchor=\"middle\" x=\"624\" y=\"-37.8\" font-family=\"Helvetica,sans-Serif\" font-size=\"14.00\">gini = 0.131</text>\n<text text-anchor=\"middle\" x=\"624\" y=\"-22.8\" font-family=\"Helvetica,sans-Serif\" font-size=\"14.00\">samples = 57</text>\n<text text-anchor=\"middle\" x=\"624\" y=\"-7.8\" font-family=\"Helvetica,sans-Serif\" font-size=\"14.00\">value = [53, 4]</text>\n</g>\n<!-- 13&#45;&gt;15 -->\n<g id=\"edge15\" class=\"edge\">\n<title>13&#45;&gt;15</title>\n<path fill=\"none\" stroke=\"black\" d=\"M624,-88.95C624,-80.72 624,-71.85 624,-63.48\"/>\n<polygon fill=\"black\" stroke=\"black\" points=\"627.5,-63.24 624,-53.24 620.5,-63.24 627.5,-63.24\"/>\n</g>\n<!-- 17 -->\n<g id=\"node18\" class=\"node\">\n<title>17</title>\n<polygon fill=\"#e99457\" stroke=\"black\" points=\"795,-53 693,-53 693,0 795,0 795,-53\"/>\n<text text-anchor=\"middle\" x=\"744\" y=\"-37.8\" font-family=\"Helvetica,sans-Serif\" font-size=\"14.00\">gini = 0.227</text>\n<text text-anchor=\"middle\" x=\"744\" y=\"-22.8\" font-family=\"Helvetica,sans-Serif\" font-size=\"14.00\">samples = 23</text>\n<text text-anchor=\"middle\" x=\"744\" y=\"-7.8\" font-family=\"Helvetica,sans-Serif\" font-size=\"14.00\">value = [20, 3]</text>\n</g>\n<!-- 16&#45;&gt;17 -->\n<g id=\"edge17\" class=\"edge\">\n<title>16&#45;&gt;17</title>\n<path fill=\"none\" stroke=\"black\" d=\"M778.46,-88.95C773.59,-80.26 768.32,-70.86 763.4,-62.09\"/>\n<polygon fill=\"black\" stroke=\"black\" points=\"766.38,-60.25 758.43,-53.24 760.27,-63.67 766.38,-60.25\"/>\n</g>\n<!-- 18 -->\n<g id=\"node19\" class=\"node\">\n<title>18</title>\n<polygon fill=\"#81c1ee\" stroke=\"black\" points=\"915,-53 813,-53 813,0 915,0 915,-53\"/>\n<text text-anchor=\"middle\" x=\"864\" y=\"-37.8\" font-family=\"Helvetica,sans-Serif\" font-size=\"14.00\">gini = 0.391</text>\n<text text-anchor=\"middle\" x=\"864\" y=\"-22.8\" font-family=\"Helvetica,sans-Serif\" font-size=\"14.00\">samples = 15</text>\n<text text-anchor=\"middle\" x=\"864\" y=\"-7.8\" font-family=\"Helvetica,sans-Serif\" font-size=\"14.00\">value = [4, 11]</text>\n</g>\n<!-- 16&#45;&gt;18 -->\n<g id=\"edge18\" class=\"edge\">\n<title>16&#45;&gt;18</title>\n<path fill=\"none\" stroke=\"black\" d=\"M820.43,-88.95C826.72,-80.07 833.54,-70.46 839.87,-61.54\"/>\n<polygon fill=\"black\" stroke=\"black\" points=\"842.82,-63.42 845.75,-53.24 837.11,-59.37 842.82,-63.42\"/>\n</g>\n<!-- 20 -->\n<g id=\"node21\" class=\"node\">\n<title>20</title>\n<polygon fill=\"#4ba6e7\" stroke=\"black\" points=\"1021,-157 919,-157 919,-89 1021,-89 1021,-157\"/>\n<text text-anchor=\"middle\" x=\"970\" y=\"-141.8\" font-family=\"Helvetica,sans-Serif\" font-size=\"14.00\">CCAvg &lt;= 4.6</text>\n<text text-anchor=\"middle\" x=\"970\" y=\"-126.8\" font-family=\"Helvetica,sans-Serif\" font-size=\"14.00\">gini = 0.153</text>\n<text text-anchor=\"middle\" x=\"970\" y=\"-111.8\" font-family=\"Helvetica,sans-Serif\" font-size=\"14.00\">samples = 12</text>\n<text text-anchor=\"middle\" x=\"970\" y=\"-96.8\" font-family=\"Helvetica,sans-Serif\" font-size=\"14.00\">value = [1, 11]</text>\n</g>\n<!-- 19&#45;&gt;20 -->\n<g id=\"edge20\" class=\"edge\">\n<title>19&#45;&gt;20</title>\n<path fill=\"none\" stroke=\"black\" d=\"M962.57,-192.88C963.45,-184.78 964.39,-175.98 965.31,-167.47\"/>\n<polygon fill=\"black\" stroke=\"black\" points=\"968.82,-167.62 966.41,-157.3 961.86,-166.87 968.82,-167.62\"/>\n</g>\n<!-- 23 -->\n<g id=\"node24\" class=\"node\">\n<title>23</title>\n<polygon fill=\"#e58139\" stroke=\"black\" points=\"1134.5,-149.5 1039.5,-149.5 1039.5,-96.5 1134.5,-96.5 1134.5,-149.5\"/>\n<text text-anchor=\"middle\" x=\"1087\" y=\"-134.3\" font-family=\"Helvetica,sans-Serif\" font-size=\"14.00\">gini = 0.0</text>\n<text text-anchor=\"middle\" x=\"1087\" y=\"-119.3\" font-family=\"Helvetica,sans-Serif\" font-size=\"14.00\">samples = 1</text>\n<text text-anchor=\"middle\" x=\"1087\" y=\"-104.3\" font-family=\"Helvetica,sans-Serif\" font-size=\"14.00\">value = [1, 0]</text>\n</g>\n<!-- 19&#45;&gt;23 -->\n<g id=\"edge23\" class=\"edge\">\n<title>19&#45;&gt;23</title>\n<path fill=\"none\" stroke=\"black\" d=\"M1000.56,-192.88C1015.46,-181.01 1032.23,-167.65 1047,-155.88\"/>\n<polygon fill=\"black\" stroke=\"black\" points=\"1049.34,-158.49 1054.97,-149.52 1044.97,-153.01 1049.34,-158.49\"/>\n</g>\n<!-- 21 -->\n<g id=\"node22\" class=\"node\">\n<title>21</title>\n<polygon fill=\"#399de5\" stroke=\"black\" points=\"1028.5,-53 933.5,-53 933.5,0 1028.5,0 1028.5,-53\"/>\n<text text-anchor=\"middle\" x=\"981\" y=\"-37.8\" font-family=\"Helvetica,sans-Serif\" font-size=\"14.00\">gini = 0.0</text>\n<text text-anchor=\"middle\" x=\"981\" y=\"-22.8\" font-family=\"Helvetica,sans-Serif\" font-size=\"14.00\">samples = 9</text>\n<text text-anchor=\"middle\" x=\"981\" y=\"-7.8\" font-family=\"Helvetica,sans-Serif\" font-size=\"14.00\">value = [0, 9]</text>\n</g>\n<!-- 20&#45;&gt;21 -->\n<g id=\"edge21\" class=\"edge\">\n<title>20&#45;&gt;21</title>\n<path fill=\"none\" stroke=\"black\" d=\"M973.85,-88.95C974.82,-80.62 975.86,-71.65 976.84,-63.2\"/>\n<polygon fill=\"black\" stroke=\"black\" points=\"980.32,-63.57 978,-53.24 973.37,-62.76 980.32,-63.57\"/>\n</g>\n<!-- 22 -->\n<g id=\"node23\" class=\"node\">\n<title>22</title>\n<polygon fill=\"#9ccef2\" stroke=\"black\" points=\"1141.5,-53 1046.5,-53 1046.5,0 1141.5,0 1141.5,-53\"/>\n<text text-anchor=\"middle\" x=\"1094\" y=\"-37.8\" font-family=\"Helvetica,sans-Serif\" font-size=\"14.00\">gini = 0.444</text>\n<text text-anchor=\"middle\" x=\"1094\" y=\"-22.8\" font-family=\"Helvetica,sans-Serif\" font-size=\"14.00\">samples = 3</text>\n<text text-anchor=\"middle\" x=\"1094\" y=\"-7.8\" font-family=\"Helvetica,sans-Serif\" font-size=\"14.00\">value = [1, 2]</text>\n</g>\n<!-- 20&#45;&gt;22 -->\n<g id=\"edge22\" class=\"edge\">\n<title>20&#45;&gt;22</title>\n<path fill=\"none\" stroke=\"black\" d=\"M1013.37,-88.95C1025.97,-79.34 1039.71,-68.87 1052.21,-59.34\"/>\n<polygon fill=\"black\" stroke=\"black\" points=\"1054.4,-62.08 1060.23,-53.24 1050.15,-56.51 1054.4,-62.08\"/>\n</g>\n<!-- 25 -->\n<g id=\"node26\" class=\"node\">\n<title>25</title>\n<polygon fill=\"#399de5\" stroke=\"black\" points=\"1011,-357.5 901,-357.5 901,-304.5 1011,-304.5 1011,-357.5\"/>\n<text text-anchor=\"middle\" x=\"956\" y=\"-342.3\" font-family=\"Helvetica,sans-Serif\" font-size=\"14.00\">gini = 0.0</text>\n<text text-anchor=\"middle\" x=\"956\" y=\"-327.3\" font-family=\"Helvetica,sans-Serif\" font-size=\"14.00\">samples = 118</text>\n<text text-anchor=\"middle\" x=\"956\" y=\"-312.3\" font-family=\"Helvetica,sans-Serif\" font-size=\"14.00\">value = [0, 118]</text>\n</g>\n<!-- 24&#45;&gt;25 -->\n<g id=\"edge25\" class=\"edge\">\n<title>24&#45;&gt;25</title>\n<path fill=\"none\" stroke=\"black\" d=\"M956,-400.88C956,-390.33 956,-378.6 956,-367.85\"/>\n<polygon fill=\"black\" stroke=\"black\" points=\"959.5,-367.52 956,-357.52 952.5,-367.52 959.5,-367.52\"/>\n</g>\n<!-- 26 -->\n<g id=\"node27\" class=\"node\">\n<title>26</title>\n<polygon fill=\"#e88f4f\" stroke=\"black\" points=\"1157.5,-365 1040.5,-365 1040.5,-297 1157.5,-297 1157.5,-365\"/>\n<text text-anchor=\"middle\" x=\"1099\" y=\"-349.8\" font-family=\"Helvetica,sans-Serif\" font-size=\"14.00\">Family &lt;= 2.5</text>\n<text text-anchor=\"middle\" x=\"1099\" y=\"-334.8\" font-family=\"Helvetica,sans-Serif\" font-size=\"14.00\">gini = 0.182</text>\n<text text-anchor=\"middle\" x=\"1099\" y=\"-319.8\" font-family=\"Helvetica,sans-Serif\" font-size=\"14.00\">samples = 227</text>\n<text text-anchor=\"middle\" x=\"1099\" y=\"-304.8\" font-family=\"Helvetica,sans-Serif\" font-size=\"14.00\">value = [204, 23]</text>\n</g>\n<!-- 24&#45;&gt;26 -->\n<g id=\"edge26\" class=\"edge\">\n<title>24&#45;&gt;26</title>\n<path fill=\"none\" stroke=\"black\" d=\"M1002.43,-400.88C1015.67,-391.44 1030.21,-381.06 1043.91,-371.29\"/>\n<polygon fill=\"black\" stroke=\"black\" points=\"1046.21,-373.96 1052.32,-365.3 1042.14,-368.26 1046.21,-373.96\"/>\n</g>\n<!-- 27 -->\n<g id=\"node28\" class=\"node\">\n<title>27</title>\n<polygon fill=\"#e58139\" stroke=\"black\" points=\"1154,-253.5 1044,-253.5 1044,-200.5 1154,-200.5 1154,-253.5\"/>\n<text text-anchor=\"middle\" x=\"1099\" y=\"-238.3\" font-family=\"Helvetica,sans-Serif\" font-size=\"14.00\">gini = 0.0</text>\n<text text-anchor=\"middle\" x=\"1099\" y=\"-223.3\" font-family=\"Helvetica,sans-Serif\" font-size=\"14.00\">samples = 204</text>\n<text text-anchor=\"middle\" x=\"1099\" y=\"-208.3\" font-family=\"Helvetica,sans-Serif\" font-size=\"14.00\">value = [204, 0]</text>\n</g>\n<!-- 26&#45;&gt;27 -->\n<g id=\"edge27\" class=\"edge\">\n<title>26&#45;&gt;27</title>\n<path fill=\"none\" stroke=\"black\" d=\"M1099,-296.88C1099,-286.33 1099,-274.6 1099,-263.85\"/>\n<polygon fill=\"black\" stroke=\"black\" points=\"1102.5,-263.52 1099,-253.52 1095.5,-263.52 1102.5,-263.52\"/>\n</g>\n<!-- 28 -->\n<g id=\"node29\" class=\"node\">\n<title>28</title>\n<polygon fill=\"#399de5\" stroke=\"black\" points=\"1274,-253.5 1172,-253.5 1172,-200.5 1274,-200.5 1274,-253.5\"/>\n<text text-anchor=\"middle\" x=\"1223\" y=\"-238.3\" font-family=\"Helvetica,sans-Serif\" font-size=\"14.00\">gini = 0.0</text>\n<text text-anchor=\"middle\" x=\"1223\" y=\"-223.3\" font-family=\"Helvetica,sans-Serif\" font-size=\"14.00\">samples = 23</text>\n<text text-anchor=\"middle\" x=\"1223\" y=\"-208.3\" font-family=\"Helvetica,sans-Serif\" font-size=\"14.00\">value = [0, 23]</text>\n</g>\n<!-- 26&#45;&gt;28 -->\n<g id=\"edge28\" class=\"edge\">\n<title>26&#45;&gt;28</title>\n<path fill=\"none\" stroke=\"black\" d=\"M1139.26,-296.88C1153.7,-285.01 1169.94,-271.65 1184.25,-259.88\"/>\n<polygon fill=\"black\" stroke=\"black\" points=\"1186.48,-262.58 1191.98,-253.52 1182.03,-257.17 1186.48,-262.58\"/>\n</g>\n</g>\n</svg>\n"
          },
          "metadata": {},
          "execution_count": 84
        }
      ]
    },
    {
      "cell_type": "markdown",
      "source": [
        "GridSearchCV로 최적의 하이퍼 파라미터를 찾았다. 성능이 보다 좋아진 것을 확인할 수 있다"
      ],
      "metadata": {
        "id": "D9Bd-55cIPGt"
      }
    },
    {
      "cell_type": "markdown",
      "source": [
        "# Voting Classifier"
      ],
      "metadata": {
        "id": "1lE-VthUIknv"
      }
    },
    {
      "cell_type": "markdown",
      "source": [
        "### 훈련 세트와 테스트 세트 분리"
      ],
      "metadata": {
        "id": "nckZX-T9KRQi"
      }
    },
    {
      "cell_type": "code",
      "source": [
        "from sklearn.model_selection import train_test_split\n",
        "train_X, test_X, train_y, test_y = train_test_split(raw_X_one_hot, raw_y,\n",
        "                                                    test_size = 0.2, random_state = 1)"
      ],
      "metadata": {
        "id": "rSLj8W97KZmx"
      },
      "execution_count": 86,
      "outputs": []
    },
    {
      "cell_type": "markdown",
      "source": [
        "### Voting Classifier 모델 만들기"
      ],
      "metadata": {
        "id": "pKAqf6D_Ku8J"
      }
    },
    {
      "cell_type": "code",
      "source": [
        "from sklearn.linear_model import LogisticRegression\n",
        "from sklearn.tree import DecisionTreeClassifier\n",
        "\n",
        "#개별 모델은 로지스틱 회귀와 Decision Tree\n",
        "model1 = LogisticRegression()\n",
        "model2 = DecisionTreeClassifier()"
      ],
      "metadata": {
        "id": "NizN1cPJKuCs"
      },
      "execution_count": 87,
      "outputs": []
    },
    {
      "cell_type": "code",
      "source": [
        "#VotingClassifier\n",
        "from sklearn.ensemble import VotingClassifier\n",
        "voting = VotingClassifier(estimators = [('LR', model1), ('DT', model2)], voting = 'soft')"
      ],
      "metadata": {
        "id": "evPp2mcqLwDn"
      },
      "execution_count": 88,
      "outputs": []
    },
    {
      "cell_type": "code",
      "source": [
        "#VotingClassifier 학습/예측/평가\n",
        "voting.fit(train_X, train_y)"
      ],
      "metadata": {
        "id": "4ok3Sm1DKrRJ",
        "colab": {
          "base_uri": "https://localhost:8080/"
        },
        "outputId": "cfd00777-091c-473b-c603-dad3a255aa1f"
      },
      "execution_count": 89,
      "outputs": [
        {
          "output_type": "execute_result",
          "data": {
            "text/plain": [
              "VotingClassifier(estimators=[('LR', LogisticRegression()),\n",
              "                             ('DT', DecisionTreeClassifier())],\n",
              "                 voting='soft')"
            ]
          },
          "metadata": {},
          "execution_count": 89
        }
      ]
    },
    {
      "cell_type": "code",
      "source": [
        "from sklearn.metrics import accuracy_score, f1_score\n",
        "print(\"Voting Classifier Accuracy for test data : {:.4f}\".format(accuracy_score(test_y, voting.predict(test_X))))"
      ],
      "metadata": {
        "id": "wAVXrLwTO_Jg",
        "colab": {
          "base_uri": "https://localhost:8080/"
        },
        "outputId": "06e1d2eb-9608-4857-c45a-ee1b0ec2d805"
      },
      "execution_count": 90,
      "outputs": [
        {
          "output_type": "stream",
          "name": "stdout",
          "text": [
            "Voting Classifier Accuracy for test data : 0.9860\n"
          ]
        }
      ]
    },
    {
      "cell_type": "code",
      "source": [
        "#개별 모델의 학습 / 예측 평가\n",
        "classifiers = [model1, model2]\n",
        "for i in classifiers:\n",
        "  i.fit(train_X, train_y)\n",
        "  pred = i.predict(test_X)\n",
        "  class_name = i.__class__.__name__\n",
        "  print('{0} accuracy: {1: .4f}'.format(class_name, accuracy_score(test_y, pred)))"
      ],
      "metadata": {
        "id": "BySaEdH5PCOz",
        "colab": {
          "base_uri": "https://localhost:8080/"
        },
        "outputId": "0594b7d0-a558-43c8-cc4b-6ff94e6b476a"
      },
      "execution_count": 91,
      "outputs": [
        {
          "output_type": "stream",
          "name": "stdout",
          "text": [
            "LogisticRegression accuracy:  0.9580\n",
            "DecisionTreeClassifier accuracy:  0.9860\n"
          ]
        }
      ]
    },
    {
      "cell_type": "markdown",
      "source": [
        "#Random Forest"
      ],
      "metadata": {
        "id": "7DuCy3XqSbda"
      }
    },
    {
      "cell_type": "code",
      "source": [
        "from sklearn.ensemble import RandomForestClassifier\n",
        "rf = RandomForestClassifier()\n",
        "rf.fit(train_X, train_y)\n",
        "pred = rf.predict(test_X)\n",
        "print(\"Random Forest Classifier Accuracy for test data : {:.4f}\".format(accuracy_score(test_y, pred)))"
      ],
      "metadata": {
        "id": "uFHL49kqQOcq",
        "colab": {
          "base_uri": "https://localhost:8080/"
        },
        "outputId": "aa262b91-42c8-4f07-ed06-6c86ab3bb2f4"
      },
      "execution_count": 92,
      "outputs": [
        {
          "output_type": "stream",
          "name": "stdout",
          "text": [
            "Random Forest Classifier Accuracy for test data : 0.9940\n"
          ]
        }
      ]
    },
    {
      "cell_type": "markdown",
      "source": [
        "### 그리드 서치"
      ],
      "metadata": {
        "id": "G5dkDiKWT5y0"
      }
    },
    {
      "cell_type": "code",
      "source": [
        "from sklearn.model_selection import GridSearchCV\n",
        "\n",
        "params = {'max_depth': [5, 10, 15, 20]}\n",
        "\n",
        "rf = RandomForestClassifier(n_estimators = 100)\n",
        "GridCV = GridSearchCV(rf, param_grid = params, cv = 5, n_jobs = -1)\n",
        "GridCV.fit(train_X, train_y)\n",
        "\n",
        "print(\"최적의 파라미터: \", GridCV.best_params_)\n",
        "\n",
        "rf = RandomForestClassifier(max_depth = 20, n_estimators = 100)\n",
        "rf.fit(train_X, train_y)\n",
        "pred = rf.predict(test_X)\n",
        "print(\"Random Forest Classifier Accuracy for test data : {:.4f}\".format(accuracy_score(test_y, pred)))\n",
        "print(\"Random Forest Classifier F1 score for test data : {:.4f}\".format(f1_score(test_y, pred)))"
      ],
      "metadata": {
        "id": "NGjyj_EwWlze",
        "colab": {
          "base_uri": "https://localhost:8080/"
        },
        "outputId": "c6cf9f9a-e0b7-462c-ed0f-f68dacfff388"
      },
      "execution_count": 93,
      "outputs": [
        {
          "output_type": "stream",
          "name": "stdout",
          "text": [
            "최적의 파라미터:  {'max_depth': 20}\n",
            "Random Forest Classifier Accuracy for test data : 0.9920\n",
            "Random Forest Classifier F1 score for test data : 0.9592\n"
          ]
        }
      ]
    },
    {
      "cell_type": "markdown",
      "metadata": {
        "id": "jHo_TTPw6eit"
      },
      "source": [
        "#Gradient Boost"
      ]
    },
    {
      "cell_type": "code",
      "execution_count": 94,
      "metadata": {
        "id": "K_33VS7J6kKY",
        "colab": {
          "base_uri": "https://localhost:8080/"
        },
        "outputId": "e5b56a23-7e2b-489b-ac94-a61551037276"
      },
      "outputs": [
        {
          "output_type": "stream",
          "name": "stdout",
          "text": [
            "Random Forest Classifier Accuracy for test data : 0.9900\n",
            "Random Forest Classifier F1 score for test data : 0.9495\n"
          ]
        }
      ],
      "source": [
        "from sklearn.ensemble import GradientBoostingClassifier\n",
        "\n",
        "gb_clf = GradientBoostingClassifier()\n",
        "gb_clf.fit(train_X, train_y)\n",
        "gb_pred = gb_clf.predict(test_X)\n",
        "\n",
        "print(\"Random Forest Classifier Accuracy for test data : {:.4f}\".format(accuracy_score(test_y, gb_pred)))\n",
        "print(\"Random Forest Classifier F1 score for test data : {:.4f}\".format(f1_score(test_y, gb_pred)))"
      ]
    }
  ]
}