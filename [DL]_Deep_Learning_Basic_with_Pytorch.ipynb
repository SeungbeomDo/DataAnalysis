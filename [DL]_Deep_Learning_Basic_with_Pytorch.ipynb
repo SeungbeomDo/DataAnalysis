{
  "nbformat": 4,
  "nbformat_minor": 0,
  "metadata": {
    "colab": {
      "provenance": []
    },
    "kernelspec": {
      "name": "python3",
      "display_name": "Python 3"
    },
    "language_info": {
      "name": "python"
    }
  },
  "cells": [
    {
      "cell_type": "code",
      "execution_count": 24,
      "metadata": {
        "id": "mcpsQu1kSPGY"
      },
      "outputs": [],
      "source": [
        "import torch #torch import\n",
        "import matplotlib.pyplot as plt\n",
        "import numpy as np"
      ]
    },
    {
      "cell_type": "code",
      "source": [
        "X = torch.randn(200, 1) * 10\n",
        "y = X + 3 * torch.randn(200, 1)\n",
        "plt.scatter(X.numpy(), y.numpy())\n",
        "plt.ylabel('y')\n",
        "plt.xlabel('x')\n",
        "plt.grid()\n",
        "plt.show()"
      ],
      "metadata": {
        "colab": {
          "base_uri": "https://localhost:8080/",
          "height": 279
        },
        "id": "9Y8DwoVKrP02",
        "outputId": "56ba03ce-473b-48b6-80e7-e22226ba8e1e"
      },
      "execution_count": 25,
      "outputs": [
        {
          "output_type": "display_data",
          "data": {
            "text/plain": [
              "<Figure size 432x288 with 1 Axes>"
            ],
            "image/png": "[encoded data removed]"
          },
          "metadata": {
            "needs_background": "light"
          }
        }
      ]
    },
    {
      "cell_type": "code",
      "source": [
        "import torch.nn as nn\n",
        "import torch.nn.functional as F"
      ],
      "metadata": {
        "id": "wT9WUwafrhp7"
      },
      "execution_count": 26,
      "outputs": []
    },
    {
      "cell_type": "code",
      "source": [
        "class LinearRegressionModel(nn.Module):\n",
        "  def __init__(self):\n",
        "    super(LinearRegressionModel, self).__init__()\n",
        "    self.linear1 = nn.Linear(1, 4)\n",
        "    self.linear2 = nn.Linear(4, 8)\n",
        "    self.linear3 = nn.Linear(8, 4)\n",
        "    self.linear4 = nn.Linear(4, 2)\n",
        "    self.linear5 = nn.Linear(2, 1)\n",
        "\n",
        "  def forward(self, x):\n",
        "    x = self.linear1(x)\n",
        "    x = self.linear2(x)\n",
        "    x = self.linear3(x)\n",
        "    x = self.linear4(x)\n",
        "    x = self.linear5(x)\n",
        "\n",
        "    return x\n",
        "\n",
        "linear_net = LinearRegressionModel()\n",
        "print(linear_net)\n",
        "print(list(linear_net.parameters()))"
      ],
      "metadata": {
        "colab": {
          "base_uri": "https://localhost:8080/"
        },
        "id": "A9c7KWWPrakl",
        "outputId": "cb002a20-f97f-41ea-e077-dd3fe8dc2096"
      },
      "execution_count": 37,
      "outputs": [
        {
          "output_type": "stream",
          "name": "stdout",
          "text": [
            "LinearRegressionModel(\n",
            "  (linear1): Linear(in_features=1, out_features=4, bias=True)\n",
            "  (linear2): Linear(in_features=4, out_features=8, bias=True)\n",
            "  (linear3): Linear(in_features=8, out_features=4, bias=True)\n",
            "  (linear4): Linear(in_features=4, out_features=2, bias=True)\n",
            "  (linear5): Linear(in_features=2, out_features=1, bias=True)\n",
            ")\n",
            "[Parameter containing:\n",
            "tensor([[-0.8735],\n",
            "        [ 0.6908],\n",
            "        [-0.8134],\n",
            "        [ 0.0358]], requires_grad=True), Parameter containing:\n",
            "tensor([ 0.9358,  0.5762,  0.1334, -0.0397], requires_grad=True), Parameter containing:\n",
            "tensor([[-3.4970e-01,  2.5335e-01, -2.7262e-01, -7.8783e-02],\n",
            "        [ 2.9793e-01, -3.0515e-01,  4.9304e-01, -1.3867e-01],\n",
            "        [-1.2239e-01, -3.5557e-01, -1.9722e-01,  4.7912e-01],\n",
            "        [ 4.0645e-01, -2.6007e-01,  6.0310e-02,  2.8035e-02],\n",
            "        [ 2.8517e-02, -2.0934e-01,  9.1255e-05, -5.4817e-02],\n",
            "        [ 4.5115e-01, -8.9153e-02,  3.4026e-01, -2.4744e-01],\n",
            "        [ 2.9071e-02, -1.8907e-01, -1.9345e-01, -2.9965e-01],\n",
            "        [ 9.2369e-02, -4.3648e-01,  1.2750e-01, -3.7665e-01]],\n",
            "       requires_grad=True), Parameter containing:\n",
            "tensor([ 0.2288,  0.3398,  0.1553, -0.0919, -0.2597, -0.2815, -0.0410,  0.2229],\n",
            "       requires_grad=True), Parameter containing:\n",
            "tensor([[-0.1666, -0.2747, -0.1059,  0.1228,  0.1665, -0.0959,  0.0614,  0.3140],\n",
            "        [-0.1315,  0.1040,  0.2046, -0.1306, -0.2373, -0.0925,  0.0550,  0.0457],\n",
            "        [-0.2683,  0.0774,  0.0322,  0.3362,  0.2978, -0.0988,  0.2409, -0.2209],\n",
            "        [-0.3487,  0.2524,  0.1596, -0.3120, -0.3102, -0.0793, -0.0276,  0.3015]],\n",
            "       requires_grad=True), Parameter containing:\n",
            "tensor([-0.1234, -0.0991,  0.2990,  0.3179], requires_grad=True), Parameter containing:\n",
            "tensor([[ 0.4034,  0.3619,  0.2038, -0.4421],\n",
            "        [ 0.0504, -0.3553, -0.3745,  0.0091]], requires_grad=True), Parameter containing:\n",
            "tensor([-0.0033,  0.4549], requires_grad=True), Parameter containing:\n",
            "tensor([[-0.2788,  0.0927]], requires_grad=True), Parameter containing:\n",
            "tensor([-0.0998], requires_grad=True)]\n"
          ]
        }
      ]
    },
    {
      "cell_type": "code",
      "source": [
        "y_pred = linear_net(X)\n",
        "plt.plot(X, y_pred.detach().numpy(), label = 'fitted')\n",
        "plt.plot(X, y, '.', label = 'data')\n",
        "plt.legend()"
      ],
      "metadata": {
        "colab": {
          "base_uri": "https://localhost:8080/",
          "height": 283
        },
        "id": "GoHP-XNjp6mZ",
        "outputId": "836ac24d-8d15-4272-c745-9029e0656e3a"
      },
      "execution_count": 38,
      "outputs": [
        {
          "output_type": "execute_result",
          "data": {
            "text/plain": [
              "<matplotlib.legend.Legend at 0x7f8a0af62130>"
            ]
          },
          "metadata": {},
          "execution_count": 38
        },
        {
          "output_type": "display_data",
          "data": {
            "text/plain": [
              "<Figure size 432x288 with 1 Axes>"
            ],
            "image/png": "[encoded data removed]"
          },
          "metadata": {
            "needs_background": "light"
          }
        }
      ]
    },
    {
      "cell_type": "code",
      "source": [
        "import torch.optim as optim\n",
        "\n",
        "criterion = nn.MSELoss()\n",
        "optimizer = optim.SGD(linear_net.parameters(), lr = 0.001)"
      ],
      "metadata": {
        "id": "WqKFHIyrtQNk"
      },
      "execution_count": 39,
      "outputs": []
    },
    {
      "cell_type": "code",
      "source": [
        "epochs = 100\n",
        "losses = []\n",
        "\n",
        "for i, epoch in enumerate(range(epochs)):\n",
        "  optimizer.zero_grad()\n",
        "\n",
        "  y_pred = linear_net(X)\n",
        "  loss = criterion(y_pred, y)\n",
        "  losses.append(loss.item())\n",
        "  loss.backward()\n",
        "\n",
        "  optimizer.step()\n",
        "\n",
        "  print('Epoch: {}, Loss: {}'.format(epoch+1, loss.item()))"
      ],
      "metadata": {
        "id": "yIPuHiOStd41",
        "colab": {
          "base_uri": "https://localhost:8080/"
        },
        "outputId": "7223fb6c-42d5-4f43-e13f-21f52ad2c5c9"
      },
      "execution_count": 40,
      "outputs": [
        {
          "output_type": "stream",
          "name": "stdout",
          "text": [
            "Epoch: 1, Loss: 91.76351928710938\n",
            "Epoch: 2, Loss: 86.41468811035156\n",
            "Epoch: 3, Loss: 80.73246765136719\n",
            "Epoch: 4, Loss: 73.4831771850586\n",
            "Epoch: 5, Loss: 63.489139556884766\n",
            "Epoch: 6, Loss: 49.79696273803711\n",
            "Epoch: 7, Loss: 32.94538879394531\n",
            "Epoch: 8, Loss: 17.53099822998047\n",
            "Epoch: 9, Loss: 10.425044059753418\n",
            "Epoch: 10, Loss: 9.638860702514648\n",
            "Epoch: 11, Loss: 9.633772850036621\n",
            "Epoch: 12, Loss: 9.631597518920898\n",
            "Epoch: 13, Loss: 9.629456520080566\n",
            "Epoch: 14, Loss: 9.627346992492676\n",
            "Epoch: 15, Loss: 9.625265121459961\n",
            "Epoch: 16, Loss: 9.623215675354004\n",
            "Epoch: 17, Loss: 9.621192932128906\n",
            "Epoch: 18, Loss: 9.619200706481934\n",
            "Epoch: 19, Loss: 9.617234230041504\n",
            "Epoch: 20, Loss: 9.615297317504883\n",
            "Epoch: 21, Loss: 9.613387107849121\n",
            "Epoch: 22, Loss: 9.611504554748535\n",
            "Epoch: 23, Loss: 9.609646797180176\n",
            "Epoch: 24, Loss: 9.60781478881836\n",
            "Epoch: 25, Loss: 9.606010437011719\n",
            "Epoch: 26, Loss: 9.604229927062988\n",
            "Epoch: 27, Loss: 9.602474212646484\n",
            "Epoch: 28, Loss: 9.600743293762207\n",
            "Epoch: 29, Loss: 9.599037170410156\n",
            "Epoch: 30, Loss: 9.5973539352417\n",
            "Epoch: 31, Loss: 9.595693588256836\n",
            "Epoch: 32, Loss: 9.5940580368042\n",
            "Epoch: 33, Loss: 9.59244441986084\n",
            "Epoch: 34, Loss: 9.590853691101074\n",
            "Epoch: 35, Loss: 9.58928394317627\n",
            "Epoch: 36, Loss: 9.587735176086426\n",
            "Epoch: 37, Loss: 9.586210250854492\n",
            "Epoch: 38, Loss: 9.584705352783203\n",
            "Epoch: 39, Loss: 9.583221435546875\n",
            "Epoch: 40, Loss: 9.581757545471191\n",
            "Epoch: 41, Loss: 9.580314636230469\n",
            "Epoch: 42, Loss: 9.578888893127441\n",
            "Epoch: 43, Loss: 9.577486038208008\n",
            "Epoch: 44, Loss: 9.576101303100586\n",
            "Epoch: 45, Loss: 9.574734687805176\n",
            "Epoch: 46, Loss: 9.573389053344727\n",
            "Epoch: 47, Loss: 9.572059631347656\n",
            "Epoch: 48, Loss: 9.570749282836914\n",
            "Epoch: 49, Loss: 9.569457054138184\n",
            "Epoch: 50, Loss: 9.568182945251465\n",
            "Epoch: 51, Loss: 9.566926002502441\n",
            "Epoch: 52, Loss: 9.565686225891113\n",
            "Epoch: 53, Loss: 9.564462661743164\n",
            "Epoch: 54, Loss: 9.563255310058594\n",
            "Epoch: 55, Loss: 9.562066078186035\n",
            "Epoch: 56, Loss: 9.560892105102539\n",
            "Epoch: 57, Loss: 9.559734344482422\n",
            "Epoch: 58, Loss: 9.558592796325684\n",
            "Epoch: 59, Loss: 9.557466506958008\n",
            "Epoch: 60, Loss: 9.556355476379395\n",
            "Epoch: 61, Loss: 9.555258750915527\n",
            "Epoch: 62, Loss: 9.554178237915039\n",
            "Epoch: 63, Loss: 9.55311107635498\n",
            "Epoch: 64, Loss: 9.5520601272583\n",
            "Epoch: 65, Loss: 9.551021575927734\n",
            "Epoch: 66, Loss: 9.549997329711914\n",
            "Epoch: 67, Loss: 9.548988342285156\n",
            "Epoch: 68, Loss: 9.547991752624512\n",
            "Epoch: 69, Loss: 9.547008514404297\n",
            "Epoch: 70, Loss: 9.546039581298828\n",
            "Epoch: 71, Loss: 9.545083045959473\n",
            "Epoch: 72, Loss: 9.544139862060547\n",
            "Epoch: 73, Loss: 9.543209075927734\n",
            "Epoch: 74, Loss: 9.542291641235352\n",
            "Epoch: 75, Loss: 9.54138469696045\n",
            "Epoch: 76, Loss: 9.54049015045166\n",
            "Epoch: 77, Loss: 9.5396089553833\n",
            "Epoch: 78, Loss: 9.538739204406738\n",
            "Epoch: 79, Loss: 9.537880897521973\n",
            "Epoch: 80, Loss: 9.537034034729004\n",
            "Epoch: 81, Loss: 9.536197662353516\n",
            "Epoch: 82, Loss: 9.535374641418457\n",
            "Epoch: 83, Loss: 9.534562110900879\n",
            "Epoch: 84, Loss: 9.533760070800781\n",
            "Epoch: 85, Loss: 9.532967567443848\n",
            "Epoch: 86, Loss: 9.532187461853027\n",
            "Epoch: 87, Loss: 9.531415939331055\n",
            "Epoch: 88, Loss: 9.530656814575195\n",
            "Epoch: 89, Loss: 9.529906272888184\n",
            "Epoch: 90, Loss: 9.529167175292969\n",
            "Epoch: 91, Loss: 9.528436660766602\n",
            "Epoch: 92, Loss: 9.527716636657715\n",
            "Epoch: 93, Loss: 9.527005195617676\n",
            "Epoch: 94, Loss: 9.5263032913208\n",
            "Epoch: 95, Loss: 9.525612831115723\n",
            "Epoch: 96, Loss: 9.524930000305176\n",
            "Epoch: 97, Loss: 9.524256706237793\n",
            "Epoch: 98, Loss: 9.523591041564941\n",
            "Epoch: 99, Loss: 9.522934913635254\n",
            "Epoch: 100, Loss: 9.52228832244873\n"
          ]
        }
      ]
    },
    {
      "cell_type": "code",
      "source": [
        "plt.plot(range(epochs), losses)\n",
        "plt.ylabel('Loss')\n",
        "plt.xlabel('Epoch')\n",
        "plt.show()"
      ],
      "metadata": {
        "colab": {
          "base_uri": "https://localhost:8080/",
          "height": 279
        },
        "id": "pSBh-5oXti06",
        "outputId": "6a7cb7c2-1641-421b-8680-b8b19d91cb30"
      },
      "execution_count": 36,
      "outputs": [
        {
          "output_type": "display_data",
          "data": {
            "text/plain": [
              "<Figure size 432x288 with 1 Axes>"
            ],
            "image/png": "[encoded data removed]"
          },
          "metadata": {
            "needs_background": "light"
          }
        }
      ]
    },
    {
      "cell_type": "code",
      "source": [
        "y_pred = linear_net(X)\n",
        "plt.plot(X, y_pred.detach().numpy(), label = 'fitted')\n",
        "plt.plot(X, y, '.', label = 'data')\n",
        "plt.legend()"
      ],
      "metadata": {
        "colab": {
          "base_uri": "https://localhost:8080/",
          "height": 283
        },
        "id": "HTDXsXCdtl_6",
        "outputId": "060e234b-2d0a-4509-c934-13ee4c510916"
      },
      "execution_count": 41,
      "outputs": [
        {
          "output_type": "execute_result",
          "data": {
            "text/plain": [
              "<matplotlib.legend.Legend at 0x7f8a0aec9760>"
            ]
          },
          "metadata": {},
          "execution_count": 41
        },
        {
          "output_type": "display_data",
          "data": {
            "text/plain": [
              "<Figure size 432x288 with 1 Axes>"
            ],
            "image/png": "[encoded data removed]"
          },
          "metadata": {
            "needs_background": "light"
          }
        }
      ]
    }
  ]
}